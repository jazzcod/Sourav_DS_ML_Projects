{
 "cells": [
  {
   "cell_type": "code",
   "execution_count": 1,
   "metadata": {},
   "outputs": [],
   "source": [
    "import numpy as np\n",
    "import pandas as pd\n",
    "import matplotlib.pyplot as plt\n",
    "import seaborn as sns\n",
    "import warnings\n",
    "warnings.filterwarnings(\"ignore\")"
   ]
  },
  {
   "cell_type": "markdown",
   "metadata": {},
   "source": [
    "### Calling DataFrame"
   ]
  },
  {
   "cell_type": "code",
   "execution_count": 2,
   "metadata": {},
   "outputs": [
    {
     "data": {
      "text/html": [
       "<div>\n",
       "<style scoped>\n",
       "    .dataframe tbody tr th:only-of-type {\n",
       "        vertical-align: middle;\n",
       "    }\n",
       "\n",
       "    .dataframe tbody tr th {\n",
       "        vertical-align: top;\n",
       "    }\n",
       "\n",
       "    .dataframe thead th {\n",
       "        text-align: right;\n",
       "    }\n",
       "</style>\n",
       "<table border=\"1\" class=\"dataframe\">\n",
       "  <thead>\n",
       "    <tr style=\"text-align: right;\">\n",
       "      <th></th>\n",
       "      <th>Date</th>\n",
       "      <th>Country</th>\n",
       "      <th>Confirmed</th>\n",
       "      <th>Recovered</th>\n",
       "      <th>Deaths</th>\n",
       "    </tr>\n",
       "  </thead>\n",
       "  <tbody>\n",
       "    <tr>\n",
       "      <th>0</th>\n",
       "      <td>2020-01-22</td>\n",
       "      <td>Afghanistan</td>\n",
       "      <td>0</td>\n",
       "      <td>0</td>\n",
       "      <td>0</td>\n",
       "    </tr>\n",
       "    <tr>\n",
       "      <th>1</th>\n",
       "      <td>2020-01-22</td>\n",
       "      <td>Albania</td>\n",
       "      <td>0</td>\n",
       "      <td>0</td>\n",
       "      <td>0</td>\n",
       "    </tr>\n",
       "    <tr>\n",
       "      <th>2</th>\n",
       "      <td>2020-01-22</td>\n",
       "      <td>Algeria</td>\n",
       "      <td>0</td>\n",
       "      <td>0</td>\n",
       "      <td>0</td>\n",
       "    </tr>\n",
       "    <tr>\n",
       "      <th>3</th>\n",
       "      <td>2020-01-22</td>\n",
       "      <td>Andorra</td>\n",
       "      <td>0</td>\n",
       "      <td>0</td>\n",
       "      <td>0</td>\n",
       "    </tr>\n",
       "    <tr>\n",
       "      <th>4</th>\n",
       "      <td>2020-01-22</td>\n",
       "      <td>Angola</td>\n",
       "      <td>0</td>\n",
       "      <td>0</td>\n",
       "      <td>0</td>\n",
       "    </tr>\n",
       "    <tr>\n",
       "      <th>...</th>\n",
       "      <td>...</td>\n",
       "      <td>...</td>\n",
       "      <td>...</td>\n",
       "      <td>...</td>\n",
       "      <td>...</td>\n",
       "    </tr>\n",
       "    <tr>\n",
       "      <th>23683</th>\n",
       "      <td>2020-05-26</td>\n",
       "      <td>West Bank and Gaza</td>\n",
       "      <td>429</td>\n",
       "      <td>365</td>\n",
       "      <td>3</td>\n",
       "    </tr>\n",
       "    <tr>\n",
       "      <th>23684</th>\n",
       "      <td>2020-05-26</td>\n",
       "      <td>Western Sahara</td>\n",
       "      <td>9</td>\n",
       "      <td>6</td>\n",
       "      <td>1</td>\n",
       "    </tr>\n",
       "    <tr>\n",
       "      <th>23685</th>\n",
       "      <td>2020-05-26</td>\n",
       "      <td>Yemen</td>\n",
       "      <td>249</td>\n",
       "      <td>10</td>\n",
       "      <td>49</td>\n",
       "    </tr>\n",
       "    <tr>\n",
       "      <th>23686</th>\n",
       "      <td>2020-05-26</td>\n",
       "      <td>Zambia</td>\n",
       "      <td>920</td>\n",
       "      <td>336</td>\n",
       "      <td>7</td>\n",
       "    </tr>\n",
       "    <tr>\n",
       "      <th>23687</th>\n",
       "      <td>2020-05-26</td>\n",
       "      <td>Zimbabwe</td>\n",
       "      <td>56</td>\n",
       "      <td>25</td>\n",
       "      <td>4</td>\n",
       "    </tr>\n",
       "  </tbody>\n",
       "</table>\n",
       "<p>23688 rows × 5 columns</p>\n",
       "</div>"
      ],
      "text/plain": [
       "            Date             Country  Confirmed  Recovered  Deaths\n",
       "0     2020-01-22         Afghanistan          0          0       0\n",
       "1     2020-01-22             Albania          0          0       0\n",
       "2     2020-01-22             Algeria          0          0       0\n",
       "3     2020-01-22             Andorra          0          0       0\n",
       "4     2020-01-22              Angola          0          0       0\n",
       "...          ...                 ...        ...        ...     ...\n",
       "23683 2020-05-26  West Bank and Gaza        429        365       3\n",
       "23684 2020-05-26      Western Sahara          9          6       1\n",
       "23685 2020-05-26               Yemen        249         10      49\n",
       "23686 2020-05-26              Zambia        920        336       7\n",
       "23687 2020-05-26            Zimbabwe         56         25       4\n",
       "\n",
       "[23688 rows x 5 columns]"
      ]
     },
     "execution_count": 2,
     "metadata": {},
     "output_type": "execute_result"
    }
   ],
   "source": [
    "#calling the entire dataset\n",
    "ds_corona=pd.read_csv(\"Coronavirus.csv\",parse_dates=[\"Date\"])\n",
    "ds_corona"
   ]
  },
  {
   "cell_type": "markdown",
   "metadata": {},
   "source": [
    "### Describing Info"
   ]
  },
  {
   "cell_type": "code",
   "execution_count": 3,
   "metadata": {},
   "outputs": [
    {
     "name": "stdout",
     "output_type": "stream",
     "text": [
      "<class 'pandas.core.frame.DataFrame'>\n",
      "RangeIndex: 23688 entries, 0 to 23687\n",
      "Data columns (total 5 columns):\n",
      " #   Column     Non-Null Count  Dtype         \n",
      "---  ------     --------------  -----         \n",
      " 0   Date       23688 non-null  datetime64[ns]\n",
      " 1   Country    23688 non-null  object        \n",
      " 2   Confirmed  23688 non-null  int64         \n",
      " 3   Recovered  23688 non-null  int64         \n",
      " 4   Deaths     23688 non-null  int64         \n",
      "dtypes: datetime64[ns](1), int64(3), object(1)\n",
      "memory usage: 925.4+ KB\n"
     ]
    }
   ],
   "source": [
    "#describing the info realted to the datset\n",
    "ds_corona.info()"
   ]
  },
  {
   "cell_type": "markdown",
   "metadata": {},
   "source": [
    "### Finding Null Values"
   ]
  },
  {
   "cell_type": "code",
   "execution_count": 4,
   "metadata": {},
   "outputs": [
    {
     "data": {
      "text/plain": [
       "Date         0\n",
       "Country      0\n",
       "Confirmed    0\n",
       "Recovered    0\n",
       "Deaths       0\n",
       "dtype: int64"
      ]
     },
     "execution_count": 4,
     "metadata": {},
     "output_type": "execute_result"
    }
   ],
   "source": [
    "#finding if there are null values\n",
    "ds_corona.isnull().sum()"
   ]
  },
  {
   "cell_type": "code",
   "execution_count": 5,
   "metadata": {},
   "outputs": [
    {
     "data": {
      "text/plain": [
       "<matplotlib.axes._subplots.AxesSubplot at 0xb3bafc8>"
      ]
     },
     "execution_count": 5,
     "metadata": {},
     "output_type": "execute_result"
    },
    {
     "data": {
      "image/png": "[encoded data removed]",
      "text/plain": [
       "<Figure size 432x288 with 2 Axes>"
      ]
     },
     "metadata": {
      "needs_background": "light"
     },
     "output_type": "display_data"
    }
   ],
   "source": [
    "#plotting null values in a heatmap\n",
    "sns.heatmap(ds_corona.isnull())"
   ]
  },
  {
   "cell_type": "markdown",
   "metadata": {},
   "source": [
    "### Plotting Correlation"
   ]
  },
  {
   "cell_type": "code",
   "execution_count": 6,
   "metadata": {},
   "outputs": [
    {
     "data": {
      "text/html": [
       "<div>\n",
       "<style scoped>\n",
       "    .dataframe tbody tr th:only-of-type {\n",
       "        vertical-align: middle;\n",
       "    }\n",
       "\n",
       "    .dataframe tbody tr th {\n",
       "        vertical-align: top;\n",
       "    }\n",
       "\n",
       "    .dataframe thead th {\n",
       "        text-align: right;\n",
       "    }\n",
       "</style>\n",
       "<table border=\"1\" class=\"dataframe\">\n",
       "  <thead>\n",
       "    <tr style=\"text-align: right;\">\n",
       "      <th></th>\n",
       "      <th>Confirmed</th>\n",
       "      <th>Recovered</th>\n",
       "      <th>Deaths</th>\n",
       "    </tr>\n",
       "  </thead>\n",
       "  <tbody>\n",
       "    <tr>\n",
       "      <th>Confirmed</th>\n",
       "      <td>1.000000</td>\n",
       "      <td>0.810991</td>\n",
       "      <td>0.929718</td>\n",
       "    </tr>\n",
       "    <tr>\n",
       "      <th>Recovered</th>\n",
       "      <td>0.810991</td>\n",
       "      <td>1.000000</td>\n",
       "      <td>0.778094</td>\n",
       "    </tr>\n",
       "    <tr>\n",
       "      <th>Deaths</th>\n",
       "      <td>0.929718</td>\n",
       "      <td>0.778094</td>\n",
       "      <td>1.000000</td>\n",
       "    </tr>\n",
       "  </tbody>\n",
       "</table>\n",
       "</div>"
      ],
      "text/plain": [
       "           Confirmed  Recovered    Deaths\n",
       "Confirmed   1.000000   0.810991  0.929718\n",
       "Recovered   0.810991   1.000000  0.778094\n",
       "Deaths      0.929718   0.778094  1.000000"
      ]
     },
     "execution_count": 6,
     "metadata": {},
     "output_type": "execute_result"
    }
   ],
   "source": [
    "#plotting correlation of the variables\n",
    "ds_corona.corr()"
   ]
  },
  {
   "cell_type": "code",
   "execution_count": 7,
   "metadata": {},
   "outputs": [
    {
     "data": {
      "image/png": "[encoded data removed]",
      "text/plain": [
       "<Figure size 648x648 with 2 Axes>"
      ]
     },
     "metadata": {
      "needs_background": "light"
     },
     "output_type": "display_data"
    }
   ],
   "source": [
    "#plotting correlation of the variables in a heatmap \n",
    "corr_hmap=ds_corona.corr()\n",
    "plt.figure(figsize=(9,9))\n",
    "sns.heatmap(corr_hmap,annot=True)\n",
    "plt.show()"
   ]
  },
  {
   "cell_type": "markdown",
   "metadata": {},
   "source": [
    "### Rearranging Dates"
   ]
  },
  {
   "cell_type": "code",
   "execution_count": 8,
   "metadata": {},
   "outputs": [
    {
     "data": {
      "text/html": [
       "<div>\n",
       "<style scoped>\n",
       "    .dataframe tbody tr th:only-of-type {\n",
       "        vertical-align: middle;\n",
       "    }\n",
       "\n",
       "    .dataframe tbody tr th {\n",
       "        vertical-align: top;\n",
       "    }\n",
       "\n",
       "    .dataframe thead th {\n",
       "        text-align: right;\n",
       "    }\n",
       "</style>\n",
       "<table border=\"1\" class=\"dataframe\">\n",
       "  <thead>\n",
       "    <tr style=\"text-align: right;\">\n",
       "      <th></th>\n",
       "      <th>month</th>\n",
       "      <th>year</th>\n",
       "      <th>day</th>\n",
       "    </tr>\n",
       "  </thead>\n",
       "  <tbody>\n",
       "    <tr>\n",
       "      <th>0</th>\n",
       "      <td>January</td>\n",
       "      <td>2020</td>\n",
       "      <td>Wednesday</td>\n",
       "    </tr>\n",
       "    <tr>\n",
       "      <th>1</th>\n",
       "      <td>January</td>\n",
       "      <td>2020</td>\n",
       "      <td>Wednesday</td>\n",
       "    </tr>\n",
       "    <tr>\n",
       "      <th>2</th>\n",
       "      <td>January</td>\n",
       "      <td>2020</td>\n",
       "      <td>Wednesday</td>\n",
       "    </tr>\n",
       "    <tr>\n",
       "      <th>3</th>\n",
       "      <td>January</td>\n",
       "      <td>2020</td>\n",
       "      <td>Wednesday</td>\n",
       "    </tr>\n",
       "    <tr>\n",
       "      <th>4</th>\n",
       "      <td>January</td>\n",
       "      <td>2020</td>\n",
       "      <td>Wednesday</td>\n",
       "    </tr>\n",
       "    <tr>\n",
       "      <th>...</th>\n",
       "      <td>...</td>\n",
       "      <td>...</td>\n",
       "      <td>...</td>\n",
       "    </tr>\n",
       "    <tr>\n",
       "      <th>23683</th>\n",
       "      <td>May</td>\n",
       "      <td>2020</td>\n",
       "      <td>Tuesday</td>\n",
       "    </tr>\n",
       "    <tr>\n",
       "      <th>23684</th>\n",
       "      <td>May</td>\n",
       "      <td>2020</td>\n",
       "      <td>Tuesday</td>\n",
       "    </tr>\n",
       "    <tr>\n",
       "      <th>23685</th>\n",
       "      <td>May</td>\n",
       "      <td>2020</td>\n",
       "      <td>Tuesday</td>\n",
       "    </tr>\n",
       "    <tr>\n",
       "      <th>23686</th>\n",
       "      <td>May</td>\n",
       "      <td>2020</td>\n",
       "      <td>Tuesday</td>\n",
       "    </tr>\n",
       "    <tr>\n",
       "      <th>23687</th>\n",
       "      <td>May</td>\n",
       "      <td>2020</td>\n",
       "      <td>Tuesday</td>\n",
       "    </tr>\n",
       "  </tbody>\n",
       "</table>\n",
       "<p>23688 rows × 3 columns</p>\n",
       "</div>"
      ],
      "text/plain": [
       "         month  year        day\n",
       "0      January  2020  Wednesday\n",
       "1      January  2020  Wednesday\n",
       "2      January  2020  Wednesday\n",
       "3      January  2020  Wednesday\n",
       "4      January  2020  Wednesday\n",
       "...        ...   ...        ...\n",
       "23683      May  2020    Tuesday\n",
       "23684      May  2020    Tuesday\n",
       "23685      May  2020    Tuesday\n",
       "23686      May  2020    Tuesday\n",
       "23687      May  2020    Tuesday\n",
       "\n",
       "[23688 rows x 3 columns]"
      ]
     },
     "execution_count": 8,
     "metadata": {},
     "output_type": "execute_result"
    }
   ],
   "source": [
    "#breaking the dates into day,month and year  \n",
    "ds_corona_dates=pd.DataFrame()\n",
    "ds_corona_dates[\"month\"]=ds_corona[\"Date\"].dt.month_name()\n",
    "ds_corona_dates[\"year\"]=ds_corona[\"Date\"].dt.year\n",
    "ds_corona_dates[\"day\"]=ds_corona[\"Date\"].dt.day_name()\n",
    "ds_corona_dates"
   ]
  },
  {
   "cell_type": "markdown",
   "metadata": {},
   "source": [
    "### Combining Columns"
   ]
  },
  {
   "cell_type": "code",
   "execution_count": 9,
   "metadata": {},
   "outputs": [
    {
     "data": {
      "text/html": [
       "<div>\n",
       "<style scoped>\n",
       "    .dataframe tbody tr th:only-of-type {\n",
       "        vertical-align: middle;\n",
       "    }\n",
       "\n",
       "    .dataframe tbody tr th {\n",
       "        vertical-align: top;\n",
       "    }\n",
       "\n",
       "    .dataframe thead th {\n",
       "        text-align: right;\n",
       "    }\n",
       "</style>\n",
       "<table border=\"1\" class=\"dataframe\">\n",
       "  <thead>\n",
       "    <tr style=\"text-align: right;\">\n",
       "      <th></th>\n",
       "      <th>month</th>\n",
       "      <th>year</th>\n",
       "      <th>day</th>\n",
       "      <th>Date</th>\n",
       "      <th>Country</th>\n",
       "      <th>Confirmed</th>\n",
       "      <th>Recovered</th>\n",
       "      <th>Deaths</th>\n",
       "    </tr>\n",
       "  </thead>\n",
       "  <tbody>\n",
       "    <tr>\n",
       "      <th>0</th>\n",
       "      <td>January</td>\n",
       "      <td>2020</td>\n",
       "      <td>Wednesday</td>\n",
       "      <td>2020-01-22</td>\n",
       "      <td>Afghanistan</td>\n",
       "      <td>0</td>\n",
       "      <td>0</td>\n",
       "      <td>0</td>\n",
       "    </tr>\n",
       "    <tr>\n",
       "      <th>1</th>\n",
       "      <td>January</td>\n",
       "      <td>2020</td>\n",
       "      <td>Wednesday</td>\n",
       "      <td>2020-01-22</td>\n",
       "      <td>Albania</td>\n",
       "      <td>0</td>\n",
       "      <td>0</td>\n",
       "      <td>0</td>\n",
       "    </tr>\n",
       "    <tr>\n",
       "      <th>2</th>\n",
       "      <td>January</td>\n",
       "      <td>2020</td>\n",
       "      <td>Wednesday</td>\n",
       "      <td>2020-01-22</td>\n",
       "      <td>Algeria</td>\n",
       "      <td>0</td>\n",
       "      <td>0</td>\n",
       "      <td>0</td>\n",
       "    </tr>\n",
       "    <tr>\n",
       "      <th>3</th>\n",
       "      <td>January</td>\n",
       "      <td>2020</td>\n",
       "      <td>Wednesday</td>\n",
       "      <td>2020-01-22</td>\n",
       "      <td>Andorra</td>\n",
       "      <td>0</td>\n",
       "      <td>0</td>\n",
       "      <td>0</td>\n",
       "    </tr>\n",
       "    <tr>\n",
       "      <th>4</th>\n",
       "      <td>January</td>\n",
       "      <td>2020</td>\n",
       "      <td>Wednesday</td>\n",
       "      <td>2020-01-22</td>\n",
       "      <td>Angola</td>\n",
       "      <td>0</td>\n",
       "      <td>0</td>\n",
       "      <td>0</td>\n",
       "    </tr>\n",
       "    <tr>\n",
       "      <th>...</th>\n",
       "      <td>...</td>\n",
       "      <td>...</td>\n",
       "      <td>...</td>\n",
       "      <td>...</td>\n",
       "      <td>...</td>\n",
       "      <td>...</td>\n",
       "      <td>...</td>\n",
       "      <td>...</td>\n",
       "    </tr>\n",
       "    <tr>\n",
       "      <th>23683</th>\n",
       "      <td>May</td>\n",
       "      <td>2020</td>\n",
       "      <td>Tuesday</td>\n",
       "      <td>2020-05-26</td>\n",
       "      <td>West Bank and Gaza</td>\n",
       "      <td>429</td>\n",
       "      <td>365</td>\n",
       "      <td>3</td>\n",
       "    </tr>\n",
       "    <tr>\n",
       "      <th>23684</th>\n",
       "      <td>May</td>\n",
       "      <td>2020</td>\n",
       "      <td>Tuesday</td>\n",
       "      <td>2020-05-26</td>\n",
       "      <td>Western Sahara</td>\n",
       "      <td>9</td>\n",
       "      <td>6</td>\n",
       "      <td>1</td>\n",
       "    </tr>\n",
       "    <tr>\n",
       "      <th>23685</th>\n",
       "      <td>May</td>\n",
       "      <td>2020</td>\n",
       "      <td>Tuesday</td>\n",
       "      <td>2020-05-26</td>\n",
       "      <td>Yemen</td>\n",
       "      <td>249</td>\n",
       "      <td>10</td>\n",
       "      <td>49</td>\n",
       "    </tr>\n",
       "    <tr>\n",
       "      <th>23686</th>\n",
       "      <td>May</td>\n",
       "      <td>2020</td>\n",
       "      <td>Tuesday</td>\n",
       "      <td>2020-05-26</td>\n",
       "      <td>Zambia</td>\n",
       "      <td>920</td>\n",
       "      <td>336</td>\n",
       "      <td>7</td>\n",
       "    </tr>\n",
       "    <tr>\n",
       "      <th>23687</th>\n",
       "      <td>May</td>\n",
       "      <td>2020</td>\n",
       "      <td>Tuesday</td>\n",
       "      <td>2020-05-26</td>\n",
       "      <td>Zimbabwe</td>\n",
       "      <td>56</td>\n",
       "      <td>25</td>\n",
       "      <td>4</td>\n",
       "    </tr>\n",
       "  </tbody>\n",
       "</table>\n",
       "<p>23688 rows × 8 columns</p>\n",
       "</div>"
      ],
      "text/plain": [
       "         month  year        day       Date             Country  Confirmed  \\\n",
       "0      January  2020  Wednesday 2020-01-22         Afghanistan          0   \n",
       "1      January  2020  Wednesday 2020-01-22             Albania          0   \n",
       "2      January  2020  Wednesday 2020-01-22             Algeria          0   \n",
       "3      January  2020  Wednesday 2020-01-22             Andorra          0   \n",
       "4      January  2020  Wednesday 2020-01-22              Angola          0   \n",
       "...        ...   ...        ...        ...                 ...        ...   \n",
       "23683      May  2020    Tuesday 2020-05-26  West Bank and Gaza        429   \n",
       "23684      May  2020    Tuesday 2020-05-26      Western Sahara          9   \n",
       "23685      May  2020    Tuesday 2020-05-26               Yemen        249   \n",
       "23686      May  2020    Tuesday 2020-05-26              Zambia        920   \n",
       "23687      May  2020    Tuesday 2020-05-26            Zimbabwe         56   \n",
       "\n",
       "       Recovered  Deaths  \n",
       "0              0       0  \n",
       "1              0       0  \n",
       "2              0       0  \n",
       "3              0       0  \n",
       "4              0       0  \n",
       "...          ...     ...  \n",
       "23683        365       3  \n",
       "23684          6       1  \n",
       "23685         10      49  \n",
       "23686        336       7  \n",
       "23687         25       4  \n",
       "\n",
       "[23688 rows x 8 columns]"
      ]
     },
     "execution_count": 9,
     "metadata": {},
     "output_type": "execute_result"
    }
   ],
   "source": [
    "#combining the two dataframes\n",
    "ds_corona_combined=pd.concat([ds_corona_dates,ds_corona],axis=1)\n",
    "ds_corona_combined"
   ]
  },
  {
   "cell_type": "markdown",
   "metadata": {},
   "source": [
    "### Dropping Columns"
   ]
  },
  {
   "cell_type": "code",
   "execution_count": 10,
   "metadata": {},
   "outputs": [
    {
     "data": {
      "text/html": [
       "<div>\n",
       "<style scoped>\n",
       "    .dataframe tbody tr th:only-of-type {\n",
       "        vertical-align: middle;\n",
       "    }\n",
       "\n",
       "    .dataframe tbody tr th {\n",
       "        vertical-align: top;\n",
       "    }\n",
       "\n",
       "    .dataframe thead th {\n",
       "        text-align: right;\n",
       "    }\n",
       "</style>\n",
       "<table border=\"1\" class=\"dataframe\">\n",
       "  <thead>\n",
       "    <tr style=\"text-align: right;\">\n",
       "      <th></th>\n",
       "      <th>month</th>\n",
       "      <th>year</th>\n",
       "      <th>day</th>\n",
       "      <th>Country</th>\n",
       "      <th>Confirmed</th>\n",
       "      <th>Recovered</th>\n",
       "      <th>Deaths</th>\n",
       "    </tr>\n",
       "  </thead>\n",
       "  <tbody>\n",
       "    <tr>\n",
       "      <th>0</th>\n",
       "      <td>January</td>\n",
       "      <td>2020</td>\n",
       "      <td>Wednesday</td>\n",
       "      <td>Afghanistan</td>\n",
       "      <td>0</td>\n",
       "      <td>0</td>\n",
       "      <td>0</td>\n",
       "    </tr>\n",
       "    <tr>\n",
       "      <th>1</th>\n",
       "      <td>January</td>\n",
       "      <td>2020</td>\n",
       "      <td>Wednesday</td>\n",
       "      <td>Albania</td>\n",
       "      <td>0</td>\n",
       "      <td>0</td>\n",
       "      <td>0</td>\n",
       "    </tr>\n",
       "    <tr>\n",
       "      <th>2</th>\n",
       "      <td>January</td>\n",
       "      <td>2020</td>\n",
       "      <td>Wednesday</td>\n",
       "      <td>Algeria</td>\n",
       "      <td>0</td>\n",
       "      <td>0</td>\n",
       "      <td>0</td>\n",
       "    </tr>\n",
       "    <tr>\n",
       "      <th>3</th>\n",
       "      <td>January</td>\n",
       "      <td>2020</td>\n",
       "      <td>Wednesday</td>\n",
       "      <td>Andorra</td>\n",
       "      <td>0</td>\n",
       "      <td>0</td>\n",
       "      <td>0</td>\n",
       "    </tr>\n",
       "    <tr>\n",
       "      <th>4</th>\n",
       "      <td>January</td>\n",
       "      <td>2020</td>\n",
       "      <td>Wednesday</td>\n",
       "      <td>Angola</td>\n",
       "      <td>0</td>\n",
       "      <td>0</td>\n",
       "      <td>0</td>\n",
       "    </tr>\n",
       "    <tr>\n",
       "      <th>...</th>\n",
       "      <td>...</td>\n",
       "      <td>...</td>\n",
       "      <td>...</td>\n",
       "      <td>...</td>\n",
       "      <td>...</td>\n",
       "      <td>...</td>\n",
       "      <td>...</td>\n",
       "    </tr>\n",
       "    <tr>\n",
       "      <th>23683</th>\n",
       "      <td>May</td>\n",
       "      <td>2020</td>\n",
       "      <td>Tuesday</td>\n",
       "      <td>West Bank and Gaza</td>\n",
       "      <td>429</td>\n",
       "      <td>365</td>\n",
       "      <td>3</td>\n",
       "    </tr>\n",
       "    <tr>\n",
       "      <th>23684</th>\n",
       "      <td>May</td>\n",
       "      <td>2020</td>\n",
       "      <td>Tuesday</td>\n",
       "      <td>Western Sahara</td>\n",
       "      <td>9</td>\n",
       "      <td>6</td>\n",
       "      <td>1</td>\n",
       "    </tr>\n",
       "    <tr>\n",
       "      <th>23685</th>\n",
       "      <td>May</td>\n",
       "      <td>2020</td>\n",
       "      <td>Tuesday</td>\n",
       "      <td>Yemen</td>\n",
       "      <td>249</td>\n",
       "      <td>10</td>\n",
       "      <td>49</td>\n",
       "    </tr>\n",
       "    <tr>\n",
       "      <th>23686</th>\n",
       "      <td>May</td>\n",
       "      <td>2020</td>\n",
       "      <td>Tuesday</td>\n",
       "      <td>Zambia</td>\n",
       "      <td>920</td>\n",
       "      <td>336</td>\n",
       "      <td>7</td>\n",
       "    </tr>\n",
       "    <tr>\n",
       "      <th>23687</th>\n",
       "      <td>May</td>\n",
       "      <td>2020</td>\n",
       "      <td>Tuesday</td>\n",
       "      <td>Zimbabwe</td>\n",
       "      <td>56</td>\n",
       "      <td>25</td>\n",
       "      <td>4</td>\n",
       "    </tr>\n",
       "  </tbody>\n",
       "</table>\n",
       "<p>23688 rows × 7 columns</p>\n",
       "</div>"
      ],
      "text/plain": [
       "         month  year        day             Country  Confirmed  Recovered  \\\n",
       "0      January  2020  Wednesday         Afghanistan          0          0   \n",
       "1      January  2020  Wednesday             Albania          0          0   \n",
       "2      January  2020  Wednesday             Algeria          0          0   \n",
       "3      January  2020  Wednesday             Andorra          0          0   \n",
       "4      January  2020  Wednesday              Angola          0          0   \n",
       "...        ...   ...        ...                 ...        ...        ...   \n",
       "23683      May  2020    Tuesday  West Bank and Gaza        429        365   \n",
       "23684      May  2020    Tuesday      Western Sahara          9          6   \n",
       "23685      May  2020    Tuesday               Yemen        249         10   \n",
       "23686      May  2020    Tuesday              Zambia        920        336   \n",
       "23687      May  2020    Tuesday            Zimbabwe         56         25   \n",
       "\n",
       "       Deaths  \n",
       "0           0  \n",
       "1           0  \n",
       "2           0  \n",
       "3           0  \n",
       "4           0  \n",
       "...       ...  \n",
       "23683       3  \n",
       "23684       1  \n",
       "23685      49  \n",
       "23686       7  \n",
       "23687       4  \n",
       "\n",
       "[23688 rows x 7 columns]"
      ]
     },
     "execution_count": 10,
     "metadata": {},
     "output_type": "execute_result"
    }
   ],
   "source": [
    "#dropping columns which might not be required in building the model\n",
    "cols=[\"Date\"]\n",
    "ds_corona=ds_corona_combined.drop(cols,axis=1)\n",
    "ds_corona"
   ]
  },
  {
   "cell_type": "markdown",
   "metadata": {},
   "source": [
    "### Bivariate Analysis"
   ]
  },
  {
   "cell_type": "code",
   "execution_count": 11,
   "metadata": {},
   "outputs": [
    {
     "data": {
      "text/plain": [
       "array(['Afghanistan', 'Albania', 'Algeria', 'Andorra', 'Angola',\n",
       "       'Antigua and Barbuda', 'Argentina', 'Armenia', 'Australia',\n",
       "       'Austria', 'Azerbaijan', 'Bahamas', 'Bahrain', 'Bangladesh',\n",
       "       'Barbados', 'Belarus', 'Belgium', 'Belize', 'Benin', 'Bhutan',\n",
       "       'Bolivia', 'Bosnia and Herzegovina', 'Botswana', 'Brazil',\n",
       "       'Brunei', 'Bulgaria', 'Burkina Faso', 'Burma', 'Burundi',\n",
       "       'Cabo Verde', 'Cambodia', 'Cameroon', 'Canada',\n",
       "       'Central African Republic', 'Chad', 'Chile', 'China', 'Colombia',\n",
       "       'Comoros', 'Congo (Brazzaville)', 'Congo (Kinshasa)', 'Costa Rica',\n",
       "       \"Cote d'Ivoire\", 'Croatia', 'Cuba', 'Cyprus', 'Czechia', 'Denmark',\n",
       "       'Diamond Princess', 'Djibouti', 'Dominica', 'Dominican Republic',\n",
       "       'Ecuador', 'Egypt', 'El Salvador', 'Equatorial Guinea', 'Eritrea',\n",
       "       'Estonia', 'Eswatini', 'Ethiopia', 'Fiji', 'Finland', 'France',\n",
       "       'Gabon', 'Gambia', 'Georgia', 'Germany', 'Ghana', 'Greece',\n",
       "       'Grenada', 'Guatemala', 'Guinea', 'Guinea-Bissau', 'Guyana',\n",
       "       'Haiti', 'Holy See', 'Honduras', 'Hungary', 'Iceland', 'India',\n",
       "       'Indonesia', 'Iran', 'Iraq', 'Ireland', 'Israel', 'Italy',\n",
       "       'Jamaica', 'Japan', 'Jordan', 'Kazakhstan', 'Kenya',\n",
       "       'Korea, South', 'Kosovo', 'Kuwait', 'Kyrgyzstan', 'Laos', 'Latvia',\n",
       "       'Lebanon', 'Lesotho', 'Liberia', 'Libya', 'Liechtenstein',\n",
       "       'Lithuania', 'Luxembourg', 'MS Zaandam', 'Madagascar', 'Malawi',\n",
       "       'Malaysia', 'Maldives', 'Mali', 'Malta', 'Mauritania', 'Mauritius',\n",
       "       'Mexico', 'Moldova', 'Monaco', 'Mongolia', 'Montenegro', 'Morocco',\n",
       "       'Mozambique', 'Namibia', 'Nepal', 'Netherlands', 'New Zealand',\n",
       "       'Nicaragua', 'Niger', 'Nigeria', 'North Macedonia', 'Norway',\n",
       "       'Oman', 'Pakistan', 'Panama', 'Papua New Guinea', 'Paraguay',\n",
       "       'Peru', 'Philippines', 'Poland', 'Portugal', 'Qatar', 'Romania',\n",
       "       'Russia', 'Rwanda', 'Saint Kitts and Nevis', 'Saint Lucia',\n",
       "       'Saint Vincent and the Grenadines', 'San Marino',\n",
       "       'Sao Tome and Principe', 'Saudi Arabia', 'Senegal', 'Serbia',\n",
       "       'Seychelles', 'Sierra Leone', 'Singapore', 'Slovakia', 'Slovenia',\n",
       "       'Somalia', 'South Africa', 'South Sudan', 'Spain', 'Sri Lanka',\n",
       "       'Sudan', 'Suriname', 'Sweden', 'Switzerland', 'Syria', 'Taiwan*',\n",
       "       'Tajikistan', 'Tanzania', 'Thailand', 'Timor-Leste', 'Togo',\n",
       "       'Trinidad and Tobago', 'Tunisia', 'Turkey', 'US', 'Uganda',\n",
       "       'Ukraine', 'United Arab Emirates', 'United Kingdom', 'Uruguay',\n",
       "       'Uzbekistan', 'Venezuela', 'Vietnam', 'West Bank and Gaza',\n",
       "       'Western Sahara', 'Yemen', 'Zambia', 'Zimbabwe'], dtype=object)"
      ]
     },
     "execution_count": 11,
     "metadata": {},
     "output_type": "execute_result"
    }
   ],
   "source": [
    "#listing the name of the countries\n",
    "ds_corona[\"Country\"].unique()"
   ]
  },
  {
   "cell_type": "code",
   "execution_count": 12,
   "metadata": {},
   "outputs": [
    {
     "data": {
      "image/png": "[encoded data removed]",
      "text/plain": [
       "<Figure size 432x288 with 1 Axes>"
      ]
     },
     "metadata": {
      "needs_background": "light"
     },
     "output_type": "display_data"
    }
   ],
   "source": [
    "#plotting the number of deaths according to the months\n",
    "sns.barplot(x=ds_corona[\"month\"],y=ds_corona[\"Deaths\"],data=ds_corona)\n",
    "plt.show()"
   ]
  },
  {
   "cell_type": "code",
   "execution_count": 13,
   "metadata": {},
   "outputs": [
    {
     "data": {
      "image/png": "[encoded data removed]",
      "text/plain": [
       "<Figure size 432x288 with 1 Axes>"
      ]
     },
     "metadata": {
      "needs_background": "light"
     },
     "output_type": "display_data"
    }
   ],
   "source": [
    "#plotting the number of confirmed cases according to the months\n",
    "sns.barplot(x=ds_corona[\"month\"],y=ds_corona[\"Confirmed\"],data=ds_corona)\n",
    "plt.show()"
   ]
  },
  {
   "cell_type": "code",
   "execution_count": 14,
   "metadata": {},
   "outputs": [
    {
     "data": {
      "image/png": "[encoded data removed]",
      "text/plain": [
       "<Figure size 432x288 with 1 Axes>"
      ]
     },
     "metadata": {
      "needs_background": "light"
     },
     "output_type": "display_data"
    }
   ],
   "source": [
    "#plotting the number of recovered cases according to the months\n",
    "sns.barplot(x=ds_corona[\"month\"],y=ds_corona[\"Recovered\"],data=ds_corona)\n",
    "plt.show()"
   ]
  },
  {
   "cell_type": "code",
   "execution_count": 15,
   "metadata": {},
   "outputs": [
    {
     "data": {
      "text/plain": [
       "<seaborn.axisgrid.PairGrid at 0xc97d848>"
      ]
     },
     "execution_count": 15,
     "metadata": {},
     "output_type": "execute_result"
    },
    {
     "data": {
      "image/png": "[encoded data removed]",
      "text/plain": [
       "<Figure size 720x720 with 20 Axes>"
      ]
     },
     "metadata": {
      "needs_background": "light"
     },
     "output_type": "display_data"
    }
   ],
   "source": [
    "#plotting pairplots to find relation of all variables with one another \n",
    "sns.pairplot(ds_corona)"
   ]
  },
  {
   "cell_type": "markdown",
   "metadata": {},
   "source": [
    "### Quantifying and Encoding"
   ]
  },
  {
   "cell_type": "code",
   "execution_count": 16,
   "metadata": {},
   "outputs": [
    {
     "data": {
      "text/html": [
       "<div>\n",
       "<style scoped>\n",
       "    .dataframe tbody tr th:only-of-type {\n",
       "        vertical-align: middle;\n",
       "    }\n",
       "\n",
       "    .dataframe tbody tr th {\n",
       "        vertical-align: top;\n",
       "    }\n",
       "\n",
       "    .dataframe thead th {\n",
       "        text-align: right;\n",
       "    }\n",
       "</style>\n",
       "<table border=\"1\" class=\"dataframe\">\n",
       "  <thead>\n",
       "    <tr style=\"text-align: right;\">\n",
       "      <th></th>\n",
       "      <th>month</th>\n",
       "      <th>year</th>\n",
       "      <th>day</th>\n",
       "      <th>Country</th>\n",
       "      <th>Confirmed</th>\n",
       "      <th>Recovered</th>\n",
       "      <th>Deaths</th>\n",
       "    </tr>\n",
       "  </thead>\n",
       "  <tbody>\n",
       "    <tr>\n",
       "      <th>0</th>\n",
       "      <td>2</td>\n",
       "      <td>2020</td>\n",
       "      <td>Wednesday</td>\n",
       "      <td>Afghanistan</td>\n",
       "      <td>0</td>\n",
       "      <td>0</td>\n",
       "      <td>0</td>\n",
       "    </tr>\n",
       "    <tr>\n",
       "      <th>1</th>\n",
       "      <td>2</td>\n",
       "      <td>2020</td>\n",
       "      <td>Wednesday</td>\n",
       "      <td>Albania</td>\n",
       "      <td>0</td>\n",
       "      <td>0</td>\n",
       "      <td>0</td>\n",
       "    </tr>\n",
       "    <tr>\n",
       "      <th>2</th>\n",
       "      <td>2</td>\n",
       "      <td>2020</td>\n",
       "      <td>Wednesday</td>\n",
       "      <td>Algeria</td>\n",
       "      <td>0</td>\n",
       "      <td>0</td>\n",
       "      <td>0</td>\n",
       "    </tr>\n",
       "    <tr>\n",
       "      <th>3</th>\n",
       "      <td>2</td>\n",
       "      <td>2020</td>\n",
       "      <td>Wednesday</td>\n",
       "      <td>Andorra</td>\n",
       "      <td>0</td>\n",
       "      <td>0</td>\n",
       "      <td>0</td>\n",
       "    </tr>\n",
       "    <tr>\n",
       "      <th>4</th>\n",
       "      <td>2</td>\n",
       "      <td>2020</td>\n",
       "      <td>Wednesday</td>\n",
       "      <td>Angola</td>\n",
       "      <td>0</td>\n",
       "      <td>0</td>\n",
       "      <td>0</td>\n",
       "    </tr>\n",
       "    <tr>\n",
       "      <th>...</th>\n",
       "      <td>...</td>\n",
       "      <td>...</td>\n",
       "      <td>...</td>\n",
       "      <td>...</td>\n",
       "      <td>...</td>\n",
       "      <td>...</td>\n",
       "      <td>...</td>\n",
       "    </tr>\n",
       "    <tr>\n",
       "      <th>23683</th>\n",
       "      <td>4</td>\n",
       "      <td>2020</td>\n",
       "      <td>Tuesday</td>\n",
       "      <td>West Bank and Gaza</td>\n",
       "      <td>429</td>\n",
       "      <td>365</td>\n",
       "      <td>3</td>\n",
       "    </tr>\n",
       "    <tr>\n",
       "      <th>23684</th>\n",
       "      <td>4</td>\n",
       "      <td>2020</td>\n",
       "      <td>Tuesday</td>\n",
       "      <td>Western Sahara</td>\n",
       "      <td>9</td>\n",
       "      <td>6</td>\n",
       "      <td>1</td>\n",
       "    </tr>\n",
       "    <tr>\n",
       "      <th>23685</th>\n",
       "      <td>4</td>\n",
       "      <td>2020</td>\n",
       "      <td>Tuesday</td>\n",
       "      <td>Yemen</td>\n",
       "      <td>249</td>\n",
       "      <td>10</td>\n",
       "      <td>49</td>\n",
       "    </tr>\n",
       "    <tr>\n",
       "      <th>23686</th>\n",
       "      <td>4</td>\n",
       "      <td>2020</td>\n",
       "      <td>Tuesday</td>\n",
       "      <td>Zambia</td>\n",
       "      <td>920</td>\n",
       "      <td>336</td>\n",
       "      <td>7</td>\n",
       "    </tr>\n",
       "    <tr>\n",
       "      <th>23687</th>\n",
       "      <td>4</td>\n",
       "      <td>2020</td>\n",
       "      <td>Tuesday</td>\n",
       "      <td>Zimbabwe</td>\n",
       "      <td>56</td>\n",
       "      <td>25</td>\n",
       "      <td>4</td>\n",
       "    </tr>\n",
       "  </tbody>\n",
       "</table>\n",
       "<p>23688 rows × 7 columns</p>\n",
       "</div>"
      ],
      "text/plain": [
       "       month  year        day             Country  Confirmed  Recovered  \\\n",
       "0          2  2020  Wednesday         Afghanistan          0          0   \n",
       "1          2  2020  Wednesday             Albania          0          0   \n",
       "2          2  2020  Wednesday             Algeria          0          0   \n",
       "3          2  2020  Wednesday             Andorra          0          0   \n",
       "4          2  2020  Wednesday              Angola          0          0   \n",
       "...      ...   ...        ...                 ...        ...        ...   \n",
       "23683      4  2020    Tuesday  West Bank and Gaza        429        365   \n",
       "23684      4  2020    Tuesday      Western Sahara          9          6   \n",
       "23685      4  2020    Tuesday               Yemen        249         10   \n",
       "23686      4  2020    Tuesday              Zambia        920        336   \n",
       "23687      4  2020    Tuesday            Zimbabwe         56         25   \n",
       "\n",
       "       Deaths  \n",
       "0           0  \n",
       "1           0  \n",
       "2           0  \n",
       "3           0  \n",
       "4           0  \n",
       "...       ...  \n",
       "23683       3  \n",
       "23684       1  \n",
       "23685      49  \n",
       "23686       7  \n",
       "23687       4  \n",
       "\n",
       "[23688 rows x 7 columns]"
      ]
     },
     "execution_count": 16,
     "metadata": {},
     "output_type": "execute_result"
    }
   ],
   "source": [
    "#encoding the name of the months\n",
    "from sklearn.preprocessing import LabelEncoder\n",
    "le=LabelEncoder()\n",
    "ds_corona[\"month\"]=le.fit_transform(ds_corona[\"month\"])\n",
    "ds_corona"
   ]
  },
  {
   "cell_type": "markdown",
   "metadata": {},
   "source": [
    "### Dropping Columns"
   ]
  },
  {
   "cell_type": "code",
   "execution_count": 17,
   "metadata": {},
   "outputs": [
    {
     "data": {
      "text/html": [
       "<div>\n",
       "<style scoped>\n",
       "    .dataframe tbody tr th:only-of-type {\n",
       "        vertical-align: middle;\n",
       "    }\n",
       "\n",
       "    .dataframe tbody tr th {\n",
       "        vertical-align: top;\n",
       "    }\n",
       "\n",
       "    .dataframe thead th {\n",
       "        text-align: right;\n",
       "    }\n",
       "</style>\n",
       "<table border=\"1\" class=\"dataframe\">\n",
       "  <thead>\n",
       "    <tr style=\"text-align: right;\">\n",
       "      <th></th>\n",
       "      <th>month</th>\n",
       "      <th>Confirmed</th>\n",
       "      <th>Recovered</th>\n",
       "      <th>Deaths</th>\n",
       "    </tr>\n",
       "  </thead>\n",
       "  <tbody>\n",
       "    <tr>\n",
       "      <th>0</th>\n",
       "      <td>2</td>\n",
       "      <td>0</td>\n",
       "      <td>0</td>\n",
       "      <td>0</td>\n",
       "    </tr>\n",
       "    <tr>\n",
       "      <th>1</th>\n",
       "      <td>2</td>\n",
       "      <td>0</td>\n",
       "      <td>0</td>\n",
       "      <td>0</td>\n",
       "    </tr>\n",
       "    <tr>\n",
       "      <th>2</th>\n",
       "      <td>2</td>\n",
       "      <td>0</td>\n",
       "      <td>0</td>\n",
       "      <td>0</td>\n",
       "    </tr>\n",
       "    <tr>\n",
       "      <th>3</th>\n",
       "      <td>2</td>\n",
       "      <td>0</td>\n",
       "      <td>0</td>\n",
       "      <td>0</td>\n",
       "    </tr>\n",
       "    <tr>\n",
       "      <th>4</th>\n",
       "      <td>2</td>\n",
       "      <td>0</td>\n",
       "      <td>0</td>\n",
       "      <td>0</td>\n",
       "    </tr>\n",
       "    <tr>\n",
       "      <th>...</th>\n",
       "      <td>...</td>\n",
       "      <td>...</td>\n",
       "      <td>...</td>\n",
       "      <td>...</td>\n",
       "    </tr>\n",
       "    <tr>\n",
       "      <th>23683</th>\n",
       "      <td>4</td>\n",
       "      <td>429</td>\n",
       "      <td>365</td>\n",
       "      <td>3</td>\n",
       "    </tr>\n",
       "    <tr>\n",
       "      <th>23684</th>\n",
       "      <td>4</td>\n",
       "      <td>9</td>\n",
       "      <td>6</td>\n",
       "      <td>1</td>\n",
       "    </tr>\n",
       "    <tr>\n",
       "      <th>23685</th>\n",
       "      <td>4</td>\n",
       "      <td>249</td>\n",
       "      <td>10</td>\n",
       "      <td>49</td>\n",
       "    </tr>\n",
       "    <tr>\n",
       "      <th>23686</th>\n",
       "      <td>4</td>\n",
       "      <td>920</td>\n",
       "      <td>336</td>\n",
       "      <td>7</td>\n",
       "    </tr>\n",
       "    <tr>\n",
       "      <th>23687</th>\n",
       "      <td>4</td>\n",
       "      <td>56</td>\n",
       "      <td>25</td>\n",
       "      <td>4</td>\n",
       "    </tr>\n",
       "  </tbody>\n",
       "</table>\n",
       "<p>23688 rows × 4 columns</p>\n",
       "</div>"
      ],
      "text/plain": [
       "       month  Confirmed  Recovered  Deaths\n",
       "0          2          0          0       0\n",
       "1          2          0          0       0\n",
       "2          2          0          0       0\n",
       "3          2          0          0       0\n",
       "4          2          0          0       0\n",
       "...      ...        ...        ...     ...\n",
       "23683      4        429        365       3\n",
       "23684      4          9          6       1\n",
       "23685      4        249         10      49\n",
       "23686      4        920        336       7\n",
       "23687      4         56         25       4\n",
       "\n",
       "[23688 rows x 4 columns]"
      ]
     },
     "execution_count": 17,
     "metadata": {},
     "output_type": "execute_result"
    }
   ],
   "source": [
    "#droppping the columns that will not be consider in the final model \n",
    "cols=[\"year\",\"day\",\"Country\"]\n",
    "ds_corona=ds_corona.drop(cols,axis=1)\n",
    "ds_corona"
   ]
  },
  {
   "cell_type": "markdown",
   "metadata": {},
   "source": [
    "### Seperating Target and Input Variable"
   ]
  },
  {
   "cell_type": "code",
   "execution_count": 18,
   "metadata": {},
   "outputs": [
    {
     "data": {
      "text/html": [
       "<div>\n",
       "<style scoped>\n",
       "    .dataframe tbody tr th:only-of-type {\n",
       "        vertical-align: middle;\n",
       "    }\n",
       "\n",
       "    .dataframe tbody tr th {\n",
       "        vertical-align: top;\n",
       "    }\n",
       "\n",
       "    .dataframe thead th {\n",
       "        text-align: right;\n",
       "    }\n",
       "</style>\n",
       "<table border=\"1\" class=\"dataframe\">\n",
       "  <thead>\n",
       "    <tr style=\"text-align: right;\">\n",
       "      <th></th>\n",
       "      <th>month</th>\n",
       "      <th>Confirmed</th>\n",
       "      <th>Recovered</th>\n",
       "    </tr>\n",
       "  </thead>\n",
       "  <tbody>\n",
       "    <tr>\n",
       "      <th>0</th>\n",
       "      <td>2</td>\n",
       "      <td>0</td>\n",
       "      <td>0</td>\n",
       "    </tr>\n",
       "    <tr>\n",
       "      <th>1</th>\n",
       "      <td>2</td>\n",
       "      <td>0</td>\n",
       "      <td>0</td>\n",
       "    </tr>\n",
       "    <tr>\n",
       "      <th>2</th>\n",
       "      <td>2</td>\n",
       "      <td>0</td>\n",
       "      <td>0</td>\n",
       "    </tr>\n",
       "    <tr>\n",
       "      <th>3</th>\n",
       "      <td>2</td>\n",
       "      <td>0</td>\n",
       "      <td>0</td>\n",
       "    </tr>\n",
       "    <tr>\n",
       "      <th>4</th>\n",
       "      <td>2</td>\n",
       "      <td>0</td>\n",
       "      <td>0</td>\n",
       "    </tr>\n",
       "    <tr>\n",
       "      <th>...</th>\n",
       "      <td>...</td>\n",
       "      <td>...</td>\n",
       "      <td>...</td>\n",
       "    </tr>\n",
       "    <tr>\n",
       "      <th>23683</th>\n",
       "      <td>4</td>\n",
       "      <td>429</td>\n",
       "      <td>365</td>\n",
       "    </tr>\n",
       "    <tr>\n",
       "      <th>23684</th>\n",
       "      <td>4</td>\n",
       "      <td>9</td>\n",
       "      <td>6</td>\n",
       "    </tr>\n",
       "    <tr>\n",
       "      <th>23685</th>\n",
       "      <td>4</td>\n",
       "      <td>249</td>\n",
       "      <td>10</td>\n",
       "    </tr>\n",
       "    <tr>\n",
       "      <th>23686</th>\n",
       "      <td>4</td>\n",
       "      <td>920</td>\n",
       "      <td>336</td>\n",
       "    </tr>\n",
       "    <tr>\n",
       "      <th>23687</th>\n",
       "      <td>4</td>\n",
       "      <td>56</td>\n",
       "      <td>25</td>\n",
       "    </tr>\n",
       "  </tbody>\n",
       "</table>\n",
       "<p>23688 rows × 3 columns</p>\n",
       "</div>"
      ],
      "text/plain": [
       "       month  Confirmed  Recovered\n",
       "0          2          0          0\n",
       "1          2          0          0\n",
       "2          2          0          0\n",
       "3          2          0          0\n",
       "4          2          0          0\n",
       "...      ...        ...        ...\n",
       "23683      4        429        365\n",
       "23684      4          9          6\n",
       "23685      4        249         10\n",
       "23686      4        920        336\n",
       "23687      4         56         25\n",
       "\n",
       "[23688 rows x 3 columns]"
      ]
     },
     "execution_count": 18,
     "metadata": {},
     "output_type": "execute_result"
    }
   ],
   "source": [
    "#seperating the input variable\n",
    "x=ds_corona.iloc[:,[0,1,2]]\n",
    "x"
   ]
  },
  {
   "cell_type": "code",
   "execution_count": 19,
   "metadata": {},
   "outputs": [
    {
     "data": {
      "text/plain": [
       "0         0\n",
       "1         0\n",
       "2         0\n",
       "3         0\n",
       "4         0\n",
       "         ..\n",
       "23683     3\n",
       "23684     1\n",
       "23685    49\n",
       "23686     7\n",
       "23687     4\n",
       "Name: Deaths, Length: 23688, dtype: int64"
      ]
     },
     "execution_count": 19,
     "metadata": {},
     "output_type": "execute_result"
    }
   ],
   "source": [
    "#seperating the target variable\n",
    "y=ds_corona.iloc[:,-1]\n",
    "y"
   ]
  },
  {
   "cell_type": "markdown",
   "metadata": {},
   "source": [
    "### Scaling Input Variable"
   ]
  },
  {
   "cell_type": "code",
   "execution_count": 20,
   "metadata": {},
   "outputs": [
    {
     "data": {
      "text/plain": [
       "array([[ 0.03173404, -0.13641539, -0.17049719],\n",
       "       [ 0.03173404, -0.13641539, -0.17049719],\n",
       "       [ 0.03173404, -0.13641539, -0.17049719],\n",
       "       ...,\n",
       "       [ 1.36456375, -0.13215314, -0.16983681],\n",
       "       [ 1.36456375, -0.12066732, -0.1483084 ],\n",
       "       [ 1.36456375, -0.13545681, -0.16884624]])"
      ]
     },
     "execution_count": 20,
     "metadata": {},
     "output_type": "execute_result"
    }
   ],
   "source": [
    "#scaling the input varibale\n",
    "from sklearn.preprocessing import StandardScaler\n",
    "sc=StandardScaler()\n",
    "x=sc.fit_transform(x)\n",
    "x"
   ]
  },
  {
   "cell_type": "markdown",
   "metadata": {},
   "source": [
    "### Importing Regression Algoritims and Metrices"
   ]
  },
  {
   "cell_type": "code",
   "execution_count": 29,
   "metadata": {},
   "outputs": [],
   "source": [
    "from sklearn.linear_model import LinearRegression\n",
    "from sklearn.linear_model import Lasso\n",
    "from sklearn.linear_model import Ridge\n",
    "from sklearn.linear_model import ElasticNet\n",
    "from sklearn.tree import DecisionTreeRegressor\n",
    "from sklearn.neighbors import KNeighborsRegressor\n",
    "from sklearn.ensemble import RandomForestRegressor\n",
    "from sklearn.ensemble import AdaBoostRegressor\n",
    "from sklearn.ensemble import GradientBoostingRegressor\n",
    "from sklearn.metrics import r2_score\n",
    "from sklearn.metrics import mean_squared_error"
   ]
  },
  {
   "cell_type": "markdown",
   "metadata": {},
   "source": [
    "### Putting Aliases"
   ]
  },
  {
   "cell_type": "code",
   "execution_count": 30,
   "metadata": {},
   "outputs": [],
   "source": [
    "LR=LinearRegression()\n",
    "LA=Lasso()\n",
    "RI=Ridge(alpha=2)\n",
    "EN=ElasticNet()\n",
    "KNR=KNeighborsRegressor()\n",
    "DTR=DecisionTreeRegressor(random_state=63)\n",
    "ABR=AdaBoostRegressor(random_state=63)\n",
    "RFR=RandomForestRegressor(random_state=63)\n",
    "GBR=GradientBoostingRegressor(random_state=63)"
   ]
  },
  {
   "cell_type": "markdown",
   "metadata": {},
   "source": [
    "### Appending Models"
   ]
  },
  {
   "cell_type": "code",
   "execution_count": 31,
   "metadata": {},
   "outputs": [],
   "source": [
    "models=[]\n",
    "models.append(('LinearRegression',LR))\n",
    "models.append(('Lasso',LA))\n",
    "models.append(('Ridge',RI))\n",
    "models.append(('ElasticNet',EN))\n",
    "models.append(('DecisionTreeRegressor',DTR))\n",
    "models.append(('KNeighborsRegressor',KNR))\n",
    "models.append(('AdaBoostRegressor',ABR))\n",
    "models.append(('RandomForestRegressor',RFR))\n",
    "models.append(('GradientBoostingRegressor',GBR))"
   ]
  },
  {
   "cell_type": "markdown",
   "metadata": {},
   "source": [
    "### Machine Learning"
   ]
  },
  {
   "cell_type": "code",
   "execution_count": 32,
   "metadata": {},
   "outputs": [
    {
     "name": "stdout",
     "output_type": "stream",
     "text": [
      "********************************* LinearRegression *********************************\n",
      "\n",
      " LinearRegression(copy_X=True, fit_intercept=True, n_jobs=None, normalize=False)\n",
      "R2_score =  0.9244070296373189\n",
      "Mean_Squared_Error = 1827516.8121184022\n",
      "Cross_Val_Score =  0.053408795737558065\n",
      "\n",
      "\n",
      "********************************* Lasso *********************************\n",
      "\n",
      " Lasso(alpha=1.0, copy_X=True, fit_intercept=True, max_iter=1000,\n",
      "      normalize=False, positive=False, precompute=False, random_state=None,\n",
      "      selection='cyclic', tol=0.0001, warm_start=False)\n",
      "R2_score =  0.9244159981615677\n",
      "Mean_Squared_Error = 1827299.9913113096\n",
      "Cross_Val_Score =  0.05492152477848179\n",
      "\n",
      "\n",
      "********************************* Ridge *********************************\n",
      "\n",
      " Ridge(alpha=2, copy_X=True, fit_intercept=True, max_iter=None, normalize=False,\n",
      "      random_state=None, solver='auto', tol=0.001)\n",
      "R2_score =  0.9244140081616288\n",
      "Mean_Squared_Error = 1827348.101053884\n",
      "Cross_Val_Score =  0.053596045779459436\n",
      "\n",
      "\n",
      "********************************* ElasticNet *********************************\n",
      "\n",
      " ElasticNet(alpha=1.0, copy_X=True, fit_intercept=True, l1_ratio=0.5,\n",
      "           max_iter=1000, normalize=False, positive=False, precompute=False,\n",
      "           random_state=None, selection='cyclic', tol=0.0001, warm_start=False)\n",
      "R2_score =  0.8371496978426746\n",
      "Mean_Squared_Error = 3937028.319209952\n",
      "Cross_Val_Score =  -3.560526216696393\n",
      "\n",
      "\n",
      "********************************* DecisionTreeRegressor *********************************\n",
      "\n",
      " DecisionTreeRegressor(ccp_alpha=0.0, criterion='mse', max_depth=None,\n",
      "                      max_features=None, max_leaf_nodes=None,\n",
      "                      min_impurity_decrease=0.0, min_impurity_split=None,\n",
      "                      min_samples_leaf=1, min_samples_split=2,\n",
      "                      min_weight_fraction_leaf=0.0, presort='deprecated',\n",
      "                      random_state=63, splitter='best')\n",
      "R2_score =  0.9786804537999636\n",
      "Mean_Squared_Error = 515416.03564947634\n",
      "Cross_Val_Score =  -0.26480759532931086\n",
      "\n",
      "\n",
      "********************************* KNeighborsRegressor *********************************\n",
      "\n",
      " KNeighborsRegressor(algorithm='auto', leaf_size=30, metric='minkowski',\n",
      "                    metric_params=None, n_jobs=None, n_neighbors=5, p=2,\n",
      "                    weights='uniform')\n",
      "R2_score =  0.9854017733779171\n",
      "Mean_Squared_Error = 352923.08862811315\n",
      "Cross_Val_Score =  0.6315691094555413\n",
      "\n",
      "\n",
      "********************************* AdaBoostRegressor *********************************\n",
      "\n",
      " AdaBoostRegressor(base_estimator=None, learning_rate=1.0, loss='linear',\n",
      "                  n_estimators=50, random_state=63)\n",
      "R2_score =  0.9431628584069882\n",
      "Mean_Squared_Error = 1374080.5701327792\n",
      "Cross_Val_Score =  -0.7577062296809566\n",
      "\n",
      "\n",
      "********************************* RandomForestRegressor *********************************\n",
      "\n",
      " RandomForestRegressor(bootstrap=True, ccp_alpha=0.0, criterion='mse',\n",
      "                      max_depth=None, max_features='auto', max_leaf_nodes=None,\n",
      "                      max_samples=None, min_impurity_decrease=0.0,\n",
      "                      min_impurity_split=None, min_samples_leaf=1,\n",
      "                      min_samples_split=2, min_weight_fraction_leaf=0.0,\n",
      "                      n_estimators=100, n_jobs=None, oob_score=False,\n",
      "                      random_state=63, verbose=0, warm_start=False)\n",
      "R2_score =  0.9879459118793724\n",
      "Mean_Squared_Error = 291416.6302701483\n",
      "Cross_Val_Score =  0.35001087597209\n",
      "\n",
      "\n",
      "********************************* GradientBoostingRegressor *********************************\n",
      "\n",
      " GradientBoostingRegressor(alpha=0.9, ccp_alpha=0.0, criterion='friedman_mse',\n",
      "                          init=None, learning_rate=0.1, loss='ls', max_depth=3,\n",
      "                          max_features=None, max_leaf_nodes=None,\n",
      "                          min_impurity_decrease=0.0, min_impurity_split=None,\n",
      "                          min_samples_leaf=1, min_samples_split=2,\n",
      "                          min_weight_fraction_leaf=0.0, n_estimators=100,\n",
      "                          n_iter_no_change=None, presort='deprecated',\n",
      "                          random_state=63, subsample=1.0, tol=0.0001,\n",
      "                          validation_fraction=0.1, verbose=0, warm_start=False)\n",
      "R2_score =  0.9740753752922992\n",
      "Mean_Squared_Error = 626747.2659676435\n",
      "Cross_Val_Score =  0.4612416359033982\n",
      "\n",
      "\n"
     ]
    }
   ],
   "source": [
    "Model=[]\n",
    "R2_score=[]\n",
    "cvs=[]\n",
    "MSE=[]\n",
    "for name,model in models:\n",
    "    print('*********************************',name,'*********************************')\n",
    "    print('\\n',model)\n",
    "    Model.append(name)\n",
    "    model.fit(x_train,y_train)\n",
    "    pre=model.predict(x_test)\n",
    "    r2=r2_score(y_test,pre)\n",
    "    print('R2_score = ',r2)\n",
    "    R2_score.append(r2)\n",
    "    mse=mean_squared_error(y_test,pre)\n",
    "    print(\"Mean_Squared_Error =\",mse)\n",
    "    MSE.append(round(mse,3))\n",
    "    score= cross_val_score(model,x,y,cv=10,scoring='r2').mean()\n",
    "    print('Cross_Val_Score = ',score)\n",
    "    cvs.append(round(score,3))\n",
    "    print('\\n')"
   ]
  },
  {
   "cell_type": "markdown",
   "metadata": {},
   "source": [
    "### Algorithim Compare Table"
   ]
  },
  {
   "cell_type": "code",
   "execution_count": 33,
   "metadata": {},
   "outputs": [
    {
     "data": {
      "text/html": [
       "<div>\n",
       "<style scoped>\n",
       "    .dataframe tbody tr th:only-of-type {\n",
       "        vertical-align: middle;\n",
       "    }\n",
       "\n",
       "    .dataframe tbody tr th {\n",
       "        vertical-align: top;\n",
       "    }\n",
       "\n",
       "    .dataframe thead th {\n",
       "        text-align: right;\n",
       "    }\n",
       "</style>\n",
       "<table border=\"1\" class=\"dataframe\">\n",
       "  <thead>\n",
       "    <tr style=\"text-align: right;\">\n",
       "      <th></th>\n",
       "      <th>Model</th>\n",
       "      <th>R2_score</th>\n",
       "      <th>Mean_Squared_Error</th>\n",
       "      <th>Cross_val_score</th>\n",
       "    </tr>\n",
       "  </thead>\n",
       "  <tbody>\n",
       "    <tr>\n",
       "      <th>0</th>\n",
       "      <td>LinearRegression</td>\n",
       "      <td>0.924407</td>\n",
       "      <td>1827516.812</td>\n",
       "      <td>0.053</td>\n",
       "    </tr>\n",
       "    <tr>\n",
       "      <th>1</th>\n",
       "      <td>Lasso</td>\n",
       "      <td>0.924416</td>\n",
       "      <td>1827299.991</td>\n",
       "      <td>0.055</td>\n",
       "    </tr>\n",
       "    <tr>\n",
       "      <th>2</th>\n",
       "      <td>Ridge</td>\n",
       "      <td>0.924414</td>\n",
       "      <td>1827348.101</td>\n",
       "      <td>0.054</td>\n",
       "    </tr>\n",
       "    <tr>\n",
       "      <th>3</th>\n",
       "      <td>ElasticNet</td>\n",
       "      <td>0.837150</td>\n",
       "      <td>3937028.319</td>\n",
       "      <td>-3.561</td>\n",
       "    </tr>\n",
       "    <tr>\n",
       "      <th>4</th>\n",
       "      <td>DecisionTreeRegressor</td>\n",
       "      <td>0.978680</td>\n",
       "      <td>515416.036</td>\n",
       "      <td>-0.265</td>\n",
       "    </tr>\n",
       "    <tr>\n",
       "      <th>5</th>\n",
       "      <td>KNeighborsRegressor</td>\n",
       "      <td>0.985402</td>\n",
       "      <td>352923.089</td>\n",
       "      <td>0.632</td>\n",
       "    </tr>\n",
       "    <tr>\n",
       "      <th>6</th>\n",
       "      <td>AdaBoostRegressor</td>\n",
       "      <td>0.943163</td>\n",
       "      <td>1374080.570</td>\n",
       "      <td>-0.758</td>\n",
       "    </tr>\n",
       "    <tr>\n",
       "      <th>7</th>\n",
       "      <td>RandomForestRegressor</td>\n",
       "      <td>0.987946</td>\n",
       "      <td>291416.630</td>\n",
       "      <td>0.350</td>\n",
       "    </tr>\n",
       "    <tr>\n",
       "      <th>8</th>\n",
       "      <td>GradientBoostingRegressor</td>\n",
       "      <td>0.974075</td>\n",
       "      <td>626747.266</td>\n",
       "      <td>0.461</td>\n",
       "    </tr>\n",
       "  </tbody>\n",
       "</table>\n",
       "</div>"
      ],
      "text/plain": [
       "                       Model  R2_score  Mean_Squared_Error  Cross_val_score\n",
       "0           LinearRegression  0.924407         1827516.812            0.053\n",
       "1                      Lasso  0.924416         1827299.991            0.055\n",
       "2                      Ridge  0.924414         1827348.101            0.054\n",
       "3                 ElasticNet  0.837150         3937028.319           -3.561\n",
       "4      DecisionTreeRegressor  0.978680          515416.036           -0.265\n",
       "5        KNeighborsRegressor  0.985402          352923.089            0.632\n",
       "6          AdaBoostRegressor  0.943163         1374080.570           -0.758\n",
       "7      RandomForestRegressor  0.987946          291416.630            0.350\n",
       "8  GradientBoostingRegressor  0.974075          626747.266            0.461"
      ]
     },
     "execution_count": 33,
     "metadata": {},
     "output_type": "execute_result"
    }
   ],
   "source": [
    "result = pd.DataFrame({'Model': Model, 'R2_score': R2_score ,'Mean_Squared_Error' :MSE,'Cross_val_score':cvs})\n",
    "result"
   ]
  },
  {
   "cell_type": "markdown",
   "metadata": {},
   "source": [
    "### Generating Best Random State for Random Forest Regressor"
   ]
  },
  {
   "cell_type": "code",
   "execution_count": 34,
   "metadata": {},
   "outputs": [
    {
     "name": "stdout",
     "output_type": "stream",
     "text": [
      "r2_score corresponding to random_state: 42 is: 0.9881355629599993\n",
      "r2_score corresponding to random_state: 43 is: 0.9787898113404891\n",
      "r2_score corresponding to random_state: 44 is: 0.9768039637666601\n",
      "r2_score corresponding to random_state: 45 is: 0.9863252267789107\n",
      "r2_score corresponding to random_state: 46 is: 0.9768780113243519\n",
      "r2_score corresponding to random_state: 47 is: 0.9818785295426415\n",
      "r2_score corresponding to random_state: 48 is: 0.9751795163689789\n",
      "r2_score corresponding to random_state: 49 is: 0.9832780377541249\n",
      "r2_score corresponding to random_state: 50 is: 0.9871283473828638\n",
      "r2_score corresponding to random_state: 51 is: 0.9905919110603525\n",
      "r2_score corresponding to random_state: 52 is: 0.9789531819884549\n",
      "r2_score corresponding to random_state: 53 is: 0.9781792025328875\n",
      "r2_score corresponding to random_state: 54 is: 0.9870801962824777\n",
      "r2_score corresponding to random_state: 55 is: 0.9871014634683772\n",
      "r2_score corresponding to random_state: 56 is: 0.9771479659218719\n",
      "r2_score corresponding to random_state: 57 is: 0.9893058016975526\n",
      "r2_score corresponding to random_state: 58 is: 0.9876591521276784\n",
      "r2_score corresponding to random_state: 59 is: 0.9811622943736235\n",
      "r2_score corresponding to random_state: 60 is: 0.970401747239181\n",
      "r2_score corresponding to random_state: 61 is: 0.9769540740959358\n",
      "r2_score corresponding to random_state: 62 is: 0.9726662505687264\n",
      "r2_score corresponding to random_state: 63 is: 0.9874653961210865\n",
      "r2_score corresponding to random_state: 64 is: 0.9858715788510776\n",
      "r2_score corresponding to random_state: 65 is: 0.9890606426958695\n",
      "r2_score corresponding to random_state: 66 is: 0.9828581180966207\n",
      "r2_score corresponding to random_state: 67 is: 0.9873567633949459\n",
      "r2_score corresponding to random_state: 68 is: 0.977555829515189\n",
      "r2_score corresponding to random_state: 69 is: 0.9755165566551494\n",
      "r2_score corresponding to random_state: 70 is: 0.9798164951301364\n",
      "r2_score corresponding to random_state: 71 is: 0.9835541004048368\n",
      "r2_score corresponding to random_state: 72 is: 0.9831142188372323\n",
      "r2_score corresponding to random_state: 73 is: 0.983220800434919\n",
      "r2_score corresponding to random_state: 74 is: 0.9791556550693853\n",
      "r2_score corresponding to random_state: 75 is: 0.9688608454551302\n",
      "r2_score corresponding to random_state: 76 is: 0.9907375759841939\n",
      "r2_score corresponding to random_state: 77 is: 0.9883884736981507\n",
      "r2_score corresponding to random_state: 78 is: 0.9801591557985242\n",
      "r2_score corresponding to random_state: 79 is: 0.9913502225358489\n",
      "r2_score corresponding to random_state: 80 is: 0.9639356416452018\n",
      "r2_score corresponding to random_state: 81 is: 0.9853134165078693\n",
      "r2_score corresponding to random_state: 82 is: 0.9542802225438496\n",
      "r2_score corresponding to random_state: 83 is: 0.9847385580635523\n",
      "r2_score corresponding to random_state: 84 is: 0.974497382531207\n",
      "r2_score corresponding to random_state: 85 is: 0.9888300381827996\n",
      "r2_score corresponding to random_state: 86 is: 0.9854459497457506\n",
      "r2_score corresponding to random_state: 87 is: 0.9822919823480804\n",
      "r2_score corresponding to random_state: 88 is: 0.9770053104494203\n",
      "r2_score corresponding to random_state: 89 is: 0.9814944516332887\n",
      "r2_score corresponding to random_state: 90 is: 0.9681667804767214\n",
      "r2_score corresponding to random_state: 91 is: 0.9837891009787613\n",
      "r2_score corresponding to random_state: 92 is: 0.9842105385149548\n",
      "r2_score corresponding to random_state: 93 is: 0.9894756805498496\n",
      "r2_score corresponding to random_state: 94 is: 0.9765385853810145\n",
      "r2_score corresponding to random_state: 95 is: 0.9816179357912737\n",
      "r2_score corresponding to random_state: 96 is: 0.9879459118793724\n",
      "r2_score corresponding to random_state: 97 is: 0.9836436751855548\n",
      "r2_score corresponding to random_state: 98 is: 0.9735956728968763\n",
      "r2_score corresponding to random_state: 99 is: 0.9801244568772032\n",
      "r2_score corresponding to random_state: 100 is: 0.9794375291663753\n",
      "\n",
      "\n",
      "max r2_score corresponding to 79 is 0.9913502225358489\n"
     ]
    }
   ],
   "source": [
    "max_r_score=0\n",
    "for r_state in range(42,101):\n",
    "    x_train,x_test,y_train,y_test=train_test_split(x,y,random_state=r_state,test_size=.20)\n",
    "    RFR.fit(x_train,y_train)\n",
    "    y_pred=RFR.predict(x_test)\n",
    "    r2_scr=r2_score(y_test,y_pred)\n",
    "    print(\"r2_score corresponding to random_state:\",r_state,\"is:\",r2_scr)\n",
    "    if r2_scr>max_r_score:\n",
    "        max_r_score=r2_scr    \n",
    "        final_r_state=r_state\n",
    "print()\n",
    "print()\n",
    "print(\"max r2_score corresponding to\",final_r_state,\"is\",max_r_score)"
   ]
  },
  {
   "cell_type": "markdown",
   "metadata": {},
   "source": [
    "### Re-Testing using best Random State"
   ]
  },
  {
   "cell_type": "code",
   "execution_count": 35,
   "metadata": {},
   "outputs": [
    {
     "name": "stdout",
     "output_type": "stream",
     "text": [
      "r2 score is : 0.9913502225358489\n",
      "RMSE is : 465.5415005984383\n",
      "Mean_Absolute_Error is : 78.91787233076631\n"
     ]
    }
   ],
   "source": [
    "x_train,x_test,y_train,y_test=train_test_split(x,y,random_state=79,test_size=.20)\n",
    "RFR.fit(x_train,y_train)\n",
    "y_pred=RFR.predict(x_test)\n",
    "print(\"r2 score is :\",(r2_score(y_test,y_pred)))\n",
    "print(\"RMSE is :\",np.sqrt(mean_squared_error(y_test,y_pred)))\n",
    "print(\"Mean_Absolute_Error is :\",mean_absolute_error(y_test,y_pred))"
   ]
  },
  {
   "cell_type": "markdown",
   "metadata": {},
   "source": [
    "### HyperParameter Tuning Random Forest Regressor"
   ]
  },
  {
   "cell_type": "code",
   "execution_count": null,
   "metadata": {},
   "outputs": [],
   "source": [
    "from sklearn.model_selection import GridSearchCV\n",
    "parameterRFR=parameterRFR={\"n_estimators\":[10,20,30,40,50,100,200],\n",
    "            \"max_features\":[\"auto\",\"sqrt\",\"log2\"],\n",
    "            \"max_depth\":[2,3,4,5,None],\n",
    "            \"min_samples_split\":[2,3,4],\n",
    "            \"min_samples_leaf\":[ 2,3,4],\n",
    "            \"bootstrap\":[True, False],}\n",
    "gridRFR=GridSearchCV(RFR,param_grid=parameterRFR,n_jobs=-1,cv=10)\n",
    "gridRFR.fit(x_train,y_train)\n",
    "gridRFR.best_score_,gridRFC.best_params_"
   ]
  },
  {
   "cell_type": "markdown",
   "metadata": {},
   "source": []
  },
  {
   "cell_type": "markdown",
   "metadata": {},
   "source": [
    "### Saving the model"
   ]
  },
  {
   "cell_type": "code",
   "execution_count": 26,
   "metadata": {},
   "outputs": [
    {
     "data": {
      "text/plain": [
       "['Model_Corona_re.obj']"
      ]
     },
     "execution_count": 26,
     "metadata": {},
     "output_type": "execute_result"
    }
   ],
   "source": [
    "import joblib\n",
    "joblib.dump(RFR,\"Model_Corona_RFR.csv\")"
   ]
  },
  {
   "cell_type": "markdown",
   "metadata": {},
   "source": [
    "### Loading the Model"
   ]
  },
  {
   "cell_type": "code",
   "execution_count": 27,
   "metadata": {},
   "outputs": [],
   "source": [
    "Model_Corona=joblib.load(\"Model_Corona_RFR.csv\")"
   ]
  },
  {
   "cell_type": "markdown",
   "metadata": {},
   "source": [
    "### Using the Model"
   ]
  },
  {
   "cell_type": "code",
   "execution_count": 28,
   "metadata": {},
   "outputs": [
    {
     "data": {
      "text/plain": [
       "array([3.76207424e+00, 2.54435017e+00, 5.39090890e+01, ...,\n",
       "       3.66542926e+00, 2.04906470e+03, 9.02460365e-01])"
      ]
     },
     "execution_count": 28,
     "metadata": {},
     "output_type": "execute_result"
    }
   ],
   "source": [
    "Model_Corona.predict(x_test)"
   ]
  },
  {
   "cell_type": "code",
   "execution_count": null,
   "metadata": {},
   "outputs": [],
   "source": []
  }
 ],
 "metadata": {
  "kernelspec": {
   "display_name": "Python 3",
   "language": "python",
   "name": "python3"
  },
  "language_info": {
   "codemirror_mode": {
    "name": "ipython",
    "version": 3
   },
   "file_extension": ".py",
   "mimetype": "text/x-python",
   "name": "python",
   "nbconvert_exporter": "python",
   "pygments_lexer": "ipython3",
   "version": "3.7.6"
  }
 },
 "nbformat": 4,
 "nbformat_minor": 4
}
