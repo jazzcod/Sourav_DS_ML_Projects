{
 "cells": [
  {
   "cell_type": "code",
   "execution_count": 1,
   "metadata": {},
   "outputs": [],
   "source": [
    "import pandas as pd\n",
    "import numpy as np\n",
    "import matplotlib.pyplot as plt\n",
    "import seaborn as sns"
   ]
  },
  {
   "cell_type": "code",
   "execution_count": 2,
   "metadata": {},
   "outputs": [
    {
     "data": {
      "text/html": [
       "<div>\n",
       "<style scoped>\n",
       "    .dataframe tbody tr th:only-of-type {\n",
       "        vertical-align: middle;\n",
       "    }\n",
       "\n",
       "    .dataframe tbody tr th {\n",
       "        vertical-align: top;\n",
       "    }\n",
       "\n",
       "    .dataframe thead th {\n",
       "        text-align: right;\n",
       "    }\n",
       "</style>\n",
       "<table border=\"1\" class=\"dataframe\">\n",
       "  <thead>\n",
       "    <tr style=\"text-align: right;\">\n",
       "      <th></th>\n",
       "      <th>NAME</th>\n",
       "      <th>JOB TITLE</th>\n",
       "      <th>DEPARTMENT</th>\n",
       "      <th>EMPLOYEE ANNUAL SALARY</th>\n",
       "      <th>ESTIMATED ANNUAL SALARY MINUS FURLOUGHS</th>\n",
       "    </tr>\n",
       "  </thead>\n",
       "  <tbody>\n",
       "    <tr>\n",
       "      <th>0</th>\n",
       "      <td>AARON,  ELVIA J</td>\n",
       "      <td>WATER RATE TAKER</td>\n",
       "      <td>WATER MGMNT</td>\n",
       "      <td>$81000.00</td>\n",
       "      <td>$73862.00</td>\n",
       "    </tr>\n",
       "    <tr>\n",
       "      <th>1</th>\n",
       "      <td>AARON,  JEFFERY M</td>\n",
       "      <td>POLICE OFFICER</td>\n",
       "      <td>POLICE</td>\n",
       "      <td>$74628.00</td>\n",
       "      <td>$74628.00</td>\n",
       "    </tr>\n",
       "    <tr>\n",
       "      <th>2</th>\n",
       "      <td>AARON,  KIMBERLEI R</td>\n",
       "      <td>CHIEF CONTRACT EXPEDITER</td>\n",
       "      <td>FLEET MANAGEMNT</td>\n",
       "      <td>$77280.00</td>\n",
       "      <td>$70174.00</td>\n",
       "    </tr>\n",
       "    <tr>\n",
       "      <th>3</th>\n",
       "      <td>ABAD JR,  VICENTE M</td>\n",
       "      <td>CIVIL ENGINEER IV</td>\n",
       "      <td>WATER MGMNT</td>\n",
       "      <td>$96276.00</td>\n",
       "      <td>$96276.00</td>\n",
       "    </tr>\n",
       "    <tr>\n",
       "      <th>4</th>\n",
       "      <td>ABBATACOLA,  ROBERT J</td>\n",
       "      <td>ELECTRICAL MECHANIC</td>\n",
       "      <td>WATER MGMNT</td>\n",
       "      <td>$84032.00</td>\n",
       "      <td>$76627.00</td>\n",
       "    </tr>\n",
       "    <tr>\n",
       "      <th>...</th>\n",
       "      <td>...</td>\n",
       "      <td>...</td>\n",
       "      <td>...</td>\n",
       "      <td>...</td>\n",
       "      <td>...</td>\n",
       "    </tr>\n",
       "    <tr>\n",
       "      <th>34213</th>\n",
       "      <td>ZYMANTAS,  MARK E</td>\n",
       "      <td>POLICE OFFICER</td>\n",
       "      <td>POLICE</td>\n",
       "      <td>$74628.00</td>\n",
       "      <td>$74628.00</td>\n",
       "    </tr>\n",
       "    <tr>\n",
       "      <th>34214</th>\n",
       "      <td>ZYNIEWICZ,  ROBERT J</td>\n",
       "      <td>CONSTRUCTION LABORER</td>\n",
       "      <td>WATER MGMNT</td>\n",
       "      <td>$73216.00</td>\n",
       "      <td>$66764.00</td>\n",
       "    </tr>\n",
       "    <tr>\n",
       "      <th>34215</th>\n",
       "      <td>ZYRKOWSKI,  CARLO E</td>\n",
       "      <td>POLICE OFFICER</td>\n",
       "      <td>POLICE</td>\n",
       "      <td>$77238.00</td>\n",
       "      <td>$77238.00</td>\n",
       "    </tr>\n",
       "    <tr>\n",
       "      <th>34216</th>\n",
       "      <td>ZYSKO,  RICHARD</td>\n",
       "      <td>LIEUTENANT</td>\n",
       "      <td>FIRE</td>\n",
       "      <td>$101958.00</td>\n",
       "      <td>$101958.00</td>\n",
       "    </tr>\n",
       "    <tr>\n",
       "      <th>34217</th>\n",
       "      <td>ZYSKOWSKI,  DARIUSZ</td>\n",
       "      <td>CHIEF DATA BASE ANALYST</td>\n",
       "      <td>DoIT</td>\n",
       "      <td>$110352.00</td>\n",
       "      <td>$100205.00</td>\n",
       "    </tr>\n",
       "  </tbody>\n",
       "</table>\n",
       "<p>34218 rows × 5 columns</p>\n",
       "</div>"
      ],
      "text/plain": [
       "                        NAME                 JOB TITLE       DEPARTMENT  \\\n",
       "0            AARON,  ELVIA J          WATER RATE TAKER      WATER MGMNT   \n",
       "1          AARON,  JEFFERY M            POLICE OFFICER           POLICE   \n",
       "2        AARON,  KIMBERLEI R  CHIEF CONTRACT EXPEDITER  FLEET MANAGEMNT   \n",
       "3        ABAD JR,  VICENTE M         CIVIL ENGINEER IV      WATER MGMNT   \n",
       "4      ABBATACOLA,  ROBERT J       ELECTRICAL MECHANIC      WATER MGMNT   \n",
       "...                      ...                       ...              ...   \n",
       "34213      ZYMANTAS,  MARK E            POLICE OFFICER           POLICE   \n",
       "34214   ZYNIEWICZ,  ROBERT J      CONSTRUCTION LABORER      WATER MGMNT   \n",
       "34215    ZYRKOWSKI,  CARLO E            POLICE OFFICER           POLICE   \n",
       "34216        ZYSKO,  RICHARD                LIEUTENANT             FIRE   \n",
       "34217    ZYSKOWSKI,  DARIUSZ   CHIEF DATA BASE ANALYST             DoIT   \n",
       "\n",
       "      EMPLOYEE ANNUAL SALARY ESTIMATED ANNUAL SALARY MINUS FURLOUGHS  \n",
       "0                  $81000.00                               $73862.00  \n",
       "1                  $74628.00                               $74628.00  \n",
       "2                  $77280.00                               $70174.00  \n",
       "3                  $96276.00                               $96276.00  \n",
       "4                  $84032.00                               $76627.00  \n",
       "...                      ...                                     ...  \n",
       "34213              $74628.00                               $74628.00  \n",
       "34214              $73216.00                               $66764.00  \n",
       "34215              $77238.00                               $77238.00  \n",
       "34216             $101958.00                              $101958.00  \n",
       "34217             $110352.00                              $100205.00  \n",
       "\n",
       "[34218 rows x 5 columns]"
      ]
     },
     "execution_count": 2,
     "metadata": {},
     "output_type": "execute_result"
    }
   ],
   "source": [
    "ds_emp=pd.read_csv(\"Employee_salary.csv\")\n",
    "ds_emp"
   ]
  },
  {
   "cell_type": "code",
   "execution_count": 3,
   "metadata": {},
   "outputs": [
    {
     "data": {
      "text/plain": [
       "NAME                                       object\n",
       "JOB TITLE                                  object\n",
       "DEPARTMENT                                 object\n",
       "EMPLOYEE ANNUAL SALARY                     object\n",
       "ESTIMATED ANNUAL SALARY MINUS FURLOUGHS    object\n",
       "dtype: object"
      ]
     },
     "execution_count": 3,
     "metadata": {},
     "output_type": "execute_result"
    }
   ],
   "source": [
    "ds_emp.dtypes"
   ]
  },
  {
   "cell_type": "markdown",
   "metadata": {},
   "source": [
    "### Checking Null values"
   ]
  },
  {
   "cell_type": "code",
   "execution_count": 4,
   "metadata": {},
   "outputs": [
    {
     "data": {
      "text/plain": [
       "NAME                                       0\n",
       "JOB TITLE                                  0\n",
       "DEPARTMENT                                 0\n",
       "EMPLOYEE ANNUAL SALARY                     0\n",
       "ESTIMATED ANNUAL SALARY MINUS FURLOUGHS    0\n",
       "dtype: int64"
      ]
     },
     "execution_count": 4,
     "metadata": {},
     "output_type": "execute_result"
    }
   ],
   "source": [
    "ds_emp.isnull().sum()  #no null values"
   ]
  },
  {
   "cell_type": "markdown",
   "metadata": {},
   "source": [
    "### Finding Unique Values"
   ]
  },
  {
   "cell_type": "code",
   "execution_count": 5,
   "metadata": {},
   "outputs": [
    {
     "data": {
      "text/plain": [
       "array(['WATER MGMNT', 'POLICE', 'FLEET MANAGEMNT', 'FIRE',\n",
       "       'FAMILY & SUPPORT', 'TRANSPORTN', 'STREETS & SAN', 'REVENUE',\n",
       "       'BUSINESS AFFAIRS', 'COMMUNITY DEVELOPMENT', 'OEMC', 'HEALTH',\n",
       "       'ENVIRONMENT', 'GENERAL SERVICES', 'AVIATION', 'LAW',\n",
       "       'PUBLIC LIBRARY', 'ADMIN HEARNG', 'CULTURAL AFFAIRS', 'BUILDINGS',\n",
       "       'FINANCE', 'CITY COUNCIL', 'ANIMAL CONTRL', 'CITY CLERK',\n",
       "       'BOARD OF ELECTION', 'COMPLIANCE', 'HUMAN RESOURCES', 'TREASURER',\n",
       "       'DISABILITIES', 'IPRA', \"MAYOR'S OFFICE\", 'DoIT', 'PROCUREMENT',\n",
       "       'HUMAN RELATIONS', 'INSPECTOR GEN', 'BOARD OF ETHICS',\n",
       "       'BUDGET & MGMT', 'POLICE BOARD', 'LICENSE APPL COMM'], dtype=object)"
      ]
     },
     "execution_count": 5,
     "metadata": {},
     "output_type": "execute_result"
    }
   ],
   "source": [
    "ds_emp[\"DEPARTMENT\"].unique()"
   ]
  },
  {
   "cell_type": "code",
   "execution_count": 6,
   "metadata": {},
   "outputs": [
    {
     "data": {
      "text/html": [
       "<div>\n",
       "<style scoped>\n",
       "    .dataframe tbody tr th:only-of-type {\n",
       "        vertical-align: middle;\n",
       "    }\n",
       "\n",
       "    .dataframe tbody tr th {\n",
       "        vertical-align: top;\n",
       "    }\n",
       "\n",
       "    .dataframe thead th {\n",
       "        text-align: right;\n",
       "    }\n",
       "</style>\n",
       "<table border=\"1\" class=\"dataframe\">\n",
       "  <thead>\n",
       "    <tr style=\"text-align: right;\">\n",
       "      <th></th>\n",
       "      <th>0</th>\n",
       "    </tr>\n",
       "  </thead>\n",
       "  <tbody>\n",
       "    <tr>\n",
       "      <th>0</th>\n",
       "      <td>WATER RATE TAKER</td>\n",
       "    </tr>\n",
       "    <tr>\n",
       "      <th>1</th>\n",
       "      <td>POLICE OFFICER</td>\n",
       "    </tr>\n",
       "    <tr>\n",
       "      <th>2</th>\n",
       "      <td>CHIEF CONTRACT EXPEDITER</td>\n",
       "    </tr>\n",
       "    <tr>\n",
       "      <th>3</th>\n",
       "      <td>CIVIL ENGINEER IV</td>\n",
       "    </tr>\n",
       "    <tr>\n",
       "      <th>4</th>\n",
       "      <td>ELECTRICAL MECHANIC</td>\n",
       "    </tr>\n",
       "    <tr>\n",
       "      <th>...</th>\n",
       "      <td>...</td>\n",
       "    </tr>\n",
       "    <tr>\n",
       "      <th>1119</th>\n",
       "      <td>DECK HAND</td>\n",
       "    </tr>\n",
       "    <tr>\n",
       "      <th>1120</th>\n",
       "      <td>ASST CHIEF HIGHWAY ENGINEER</td>\n",
       "    </tr>\n",
       "    <tr>\n",
       "      <th>1121</th>\n",
       "      <td>CASE ANALYST - LAW</td>\n",
       "    </tr>\n",
       "    <tr>\n",
       "      <th>1122</th>\n",
       "      <td>OPERATIONS ANALYST</td>\n",
       "    </tr>\n",
       "    <tr>\n",
       "      <th>1123</th>\n",
       "      <td>MECHANICAL ENGINEER IV</td>\n",
       "    </tr>\n",
       "  </tbody>\n",
       "</table>\n",
       "<p>1124 rows × 1 columns</p>\n",
       "</div>"
      ],
      "text/plain": [
       "                                0\n",
       "0                WATER RATE TAKER\n",
       "1                  POLICE OFFICER\n",
       "2        CHIEF CONTRACT EXPEDITER\n",
       "3               CIVIL ENGINEER IV\n",
       "4             ELECTRICAL MECHANIC\n",
       "...                           ...\n",
       "1119                    DECK HAND\n",
       "1120  ASST CHIEF HIGHWAY ENGINEER\n",
       "1121           CASE ANALYST - LAW\n",
       "1122           OPERATIONS ANALYST\n",
       "1123       MECHANICAL ENGINEER IV\n",
       "\n",
       "[1124 rows x 1 columns]"
      ]
     },
     "execution_count": 6,
     "metadata": {},
     "output_type": "execute_result"
    }
   ],
   "source": [
    "ds_emp_title=ds_emp[\"JOB TITLE\"].unique()\n",
    "ds_emp_title\n",
    "pd.DataFrame(ds_emp_title)    #there are 1123 unique values so we will drop this column as we cant label encode"
   ]
  },
  {
   "cell_type": "code",
   "execution_count": 7,
   "metadata": {},
   "outputs": [
    {
     "name": "stdout",
     "output_type": "stream",
     "text": [
      "NAME\n",
      "PEREZ,  JOSE A         4\n",
      "KELLY,  MICHAEL J      4\n",
      "HERNANDEZ,  JUAN C     4\n",
      "RODRIGUEZ,  RICHARD    4\n",
      "BROWN,  DAVID L        3\n",
      "                      ..\n",
      "OLIJNYK,  BOHDAN       1\n",
      "COLLINS,  ELEANOR D    1\n",
      "HOSTY,  JOSEPH W       1\n",
      "PRICE,  TORREY C       1\n",
      "SNELLING,  LARRY B     1\n",
      "Name: NAME, Length: 33908, dtype: int64\n",
      "\n",
      "\n",
      "JOB TITLE\n",
      "POLICE OFFICER                            10918\n",
      "FIREFIGHTER                                1242\n",
      "FIREFIGHTER-EMT                            1198\n",
      "SERGEANT                                   1177\n",
      "MOTOR TRUCK DRIVER                          931\n",
      "                                          ...  \n",
      "CUSTOMER SERVICES SUPVSR                      1\n",
      "CITY ARCHITECT                                1\n",
      "COMMISSIONER OF GENERAL SERVICES              1\n",
      "COMMISSIONER OF HOUSING & ECONOMIC DEV        1\n",
      "SUPVSR OF COMPENSATION                        1\n",
      "Name: JOB TITLE, Length: 1124, dtype: int64\n",
      "\n",
      "\n",
      "DEPARTMENT\n",
      "POLICE                   14147\n",
      "FIRE                      5085\n",
      "STREETS & SAN             2193\n",
      "WATER MGMNT               1834\n",
      "OEMC                      1381\n",
      "AVIATION                  1289\n",
      "TRANSPORTN                1230\n",
      "PUBLIC LIBRARY            1063\n",
      "FAMILY & SUPPORT           863\n",
      "HEALTH                     862\n",
      "FLEET MANAGEMNT            612\n",
      "GENERAL SERVICES           477\n",
      "LAW                        413\n",
      "REVENUE                    411\n",
      "CITY COUNCIL               364\n",
      "BUILDINGS                  291\n",
      "COMMUNITY DEVELOPMENT      236\n",
      "BUSINESS AFFAIRS           191\n",
      "FINANCE                    190\n",
      "CITY CLERK                 127\n",
      "BOARD OF ELECTION          114\n",
      "DoIT                        95\n",
      "IPRA                        87\n",
      "MAYOR'S OFFICE              73\n",
      "HUMAN RESOURCES             73\n",
      "ANIMAL CONTRL               66\n",
      "CULTURAL AFFAIRS            65\n",
      "ENVIRONMENT                 61\n",
      "PROCUREMENT                 59\n",
      "INSPECTOR GEN               54\n",
      "BUDGET & MGMT               50\n",
      "ADMIN HEARNG                40\n",
      "DISABILITIES                33\n",
      "HUMAN RELATIONS             31\n",
      "COMPLIANCE                  25\n",
      "TREASURER                   23\n",
      "BOARD OF ETHICS              7\n",
      "POLICE BOARD                 2\n",
      "LICENSE APPL COMM            1\n",
      "Name: DEPARTMENT, dtype: int64\n",
      "\n",
      "\n",
      "EMPLOYEE ANNUAL SALARY\n",
      "$77238.00     3028\n",
      "$74628.00     2851\n",
      "$79926.00     2230\n",
      "$70408.00     1249\n",
      "$82878.00     1081\n",
      "              ... \n",
      "$17285.00        1\n",
      "$147060.00       1\n",
      "$118200.00       1\n",
      "$78120.00        1\n",
      "$13260.00        1\n",
      "Name: EMPLOYEE ANNUAL SALARY, Length: 1028, dtype: int64\n",
      "\n",
      "\n",
      "ESTIMATED ANNUAL SALARY MINUS FURLOUGHS\n",
      "$77238.00     3028\n",
      "$74628.00     2851\n",
      "$79926.00     2231\n",
      "$70408.00     1249\n",
      "$82878.00     1081\n",
      "              ... \n",
      "$89777.00        1\n",
      "$110274.00       1\n",
      "$72615.00        1\n",
      "$22896.00        1\n",
      "$80656.00        1\n",
      "Name: ESTIMATED ANNUAL SALARY MINUS FURLOUGHS, Length: 1088, dtype: int64\n",
      "\n",
      "\n"
     ]
    }
   ],
   "source": [
    "for i in ds_emp.columns:\n",
    "    print(i)\n",
    "    print(ds_emp[i].value_counts())\n",
    "    print('\\n')"
   ]
  },
  {
   "cell_type": "markdown",
   "metadata": {},
   "source": [
    "### Dropping Columns"
   ]
  },
  {
   "cell_type": "code",
   "execution_count": 8,
   "metadata": {},
   "outputs": [
    {
     "data": {
      "text/html": [
       "<div>\n",
       "<style scoped>\n",
       "    .dataframe tbody tr th:only-of-type {\n",
       "        vertical-align: middle;\n",
       "    }\n",
       "\n",
       "    .dataframe tbody tr th {\n",
       "        vertical-align: top;\n",
       "    }\n",
       "\n",
       "    .dataframe thead th {\n",
       "        text-align: right;\n",
       "    }\n",
       "</style>\n",
       "<table border=\"1\" class=\"dataframe\">\n",
       "  <thead>\n",
       "    <tr style=\"text-align: right;\">\n",
       "      <th></th>\n",
       "      <th>DEPARTMENT</th>\n",
       "      <th>EMPLOYEE ANNUAL SALARY</th>\n",
       "      <th>ESTIMATED ANNUAL SALARY MINUS FURLOUGHS</th>\n",
       "    </tr>\n",
       "  </thead>\n",
       "  <tbody>\n",
       "    <tr>\n",
       "      <th>0</th>\n",
       "      <td>WATER MGMNT</td>\n",
       "      <td>$81000.00</td>\n",
       "      <td>$73862.00</td>\n",
       "    </tr>\n",
       "    <tr>\n",
       "      <th>1</th>\n",
       "      <td>POLICE</td>\n",
       "      <td>$74628.00</td>\n",
       "      <td>$74628.00</td>\n",
       "    </tr>\n",
       "    <tr>\n",
       "      <th>2</th>\n",
       "      <td>FLEET MANAGEMNT</td>\n",
       "      <td>$77280.00</td>\n",
       "      <td>$70174.00</td>\n",
       "    </tr>\n",
       "    <tr>\n",
       "      <th>3</th>\n",
       "      <td>WATER MGMNT</td>\n",
       "      <td>$96276.00</td>\n",
       "      <td>$96276.00</td>\n",
       "    </tr>\n",
       "    <tr>\n",
       "      <th>4</th>\n",
       "      <td>WATER MGMNT</td>\n",
       "      <td>$84032.00</td>\n",
       "      <td>$76627.00</td>\n",
       "    </tr>\n",
       "    <tr>\n",
       "      <th>...</th>\n",
       "      <td>...</td>\n",
       "      <td>...</td>\n",
       "      <td>...</td>\n",
       "    </tr>\n",
       "    <tr>\n",
       "      <th>34213</th>\n",
       "      <td>POLICE</td>\n",
       "      <td>$74628.00</td>\n",
       "      <td>$74628.00</td>\n",
       "    </tr>\n",
       "    <tr>\n",
       "      <th>34214</th>\n",
       "      <td>WATER MGMNT</td>\n",
       "      <td>$73216.00</td>\n",
       "      <td>$66764.00</td>\n",
       "    </tr>\n",
       "    <tr>\n",
       "      <th>34215</th>\n",
       "      <td>POLICE</td>\n",
       "      <td>$77238.00</td>\n",
       "      <td>$77238.00</td>\n",
       "    </tr>\n",
       "    <tr>\n",
       "      <th>34216</th>\n",
       "      <td>FIRE</td>\n",
       "      <td>$101958.00</td>\n",
       "      <td>$101958.00</td>\n",
       "    </tr>\n",
       "    <tr>\n",
       "      <th>34217</th>\n",
       "      <td>DoIT</td>\n",
       "      <td>$110352.00</td>\n",
       "      <td>$100205.00</td>\n",
       "    </tr>\n",
       "  </tbody>\n",
       "</table>\n",
       "<p>34218 rows × 3 columns</p>\n",
       "</div>"
      ],
      "text/plain": [
       "            DEPARTMENT EMPLOYEE ANNUAL SALARY  \\\n",
       "0          WATER MGMNT              $81000.00   \n",
       "1               POLICE              $74628.00   \n",
       "2      FLEET MANAGEMNT              $77280.00   \n",
       "3          WATER MGMNT              $96276.00   \n",
       "4          WATER MGMNT              $84032.00   \n",
       "...                ...                    ...   \n",
       "34213           POLICE              $74628.00   \n",
       "34214      WATER MGMNT              $73216.00   \n",
       "34215           POLICE              $77238.00   \n",
       "34216             FIRE             $101958.00   \n",
       "34217             DoIT             $110352.00   \n",
       "\n",
       "      ESTIMATED ANNUAL SALARY MINUS FURLOUGHS  \n",
       "0                                   $73862.00  \n",
       "1                                   $74628.00  \n",
       "2                                   $70174.00  \n",
       "3                                   $96276.00  \n",
       "4                                   $76627.00  \n",
       "...                                       ...  \n",
       "34213                               $74628.00  \n",
       "34214                               $66764.00  \n",
       "34215                               $77238.00  \n",
       "34216                              $101958.00  \n",
       "34217                              $100205.00  \n",
       "\n",
       "[34218 rows x 3 columns]"
      ]
     },
     "execution_count": 8,
     "metadata": {},
     "output_type": "execute_result"
    }
   ],
   "source": [
    "cols=[\"NAME\",\"JOB TITLE\"]\n",
    "ds_emp=ds_emp.drop(cols,axis=1)\n",
    "ds_emp"
   ]
  },
  {
   "cell_type": "markdown",
   "metadata": {},
   "source": [
    "### Changing Data Types"
   ]
  },
  {
   "cell_type": "code",
   "execution_count": 9,
   "metadata": {},
   "outputs": [
    {
     "data": {
      "text/html": [
       "<div>\n",
       "<style scoped>\n",
       "    .dataframe tbody tr th:only-of-type {\n",
       "        vertical-align: middle;\n",
       "    }\n",
       "\n",
       "    .dataframe tbody tr th {\n",
       "        vertical-align: top;\n",
       "    }\n",
       "\n",
       "    .dataframe thead th {\n",
       "        text-align: right;\n",
       "    }\n",
       "</style>\n",
       "<table border=\"1\" class=\"dataframe\">\n",
       "  <thead>\n",
       "    <tr style=\"text-align: right;\">\n",
       "      <th></th>\n",
       "      <th>EMPLOYEE ANNUAL SALARY</th>\n",
       "    </tr>\n",
       "  </thead>\n",
       "  <tbody>\n",
       "    <tr>\n",
       "      <th>0</th>\n",
       "      <td>81000.00</td>\n",
       "    </tr>\n",
       "    <tr>\n",
       "      <th>1</th>\n",
       "      <td>74628.00</td>\n",
       "    </tr>\n",
       "    <tr>\n",
       "      <th>2</th>\n",
       "      <td>77280.00</td>\n",
       "    </tr>\n",
       "    <tr>\n",
       "      <th>3</th>\n",
       "      <td>96276.00</td>\n",
       "    </tr>\n",
       "    <tr>\n",
       "      <th>4</th>\n",
       "      <td>84032.00</td>\n",
       "    </tr>\n",
       "    <tr>\n",
       "      <th>...</th>\n",
       "      <td>...</td>\n",
       "    </tr>\n",
       "    <tr>\n",
       "      <th>34213</th>\n",
       "      <td>74628.00</td>\n",
       "    </tr>\n",
       "    <tr>\n",
       "      <th>34214</th>\n",
       "      <td>73216.00</td>\n",
       "    </tr>\n",
       "    <tr>\n",
       "      <th>34215</th>\n",
       "      <td>77238.00</td>\n",
       "    </tr>\n",
       "    <tr>\n",
       "      <th>34216</th>\n",
       "      <td>101958.00</td>\n",
       "    </tr>\n",
       "    <tr>\n",
       "      <th>34217</th>\n",
       "      <td>110352.00</td>\n",
       "    </tr>\n",
       "  </tbody>\n",
       "</table>\n",
       "<p>34218 rows × 1 columns</p>\n",
       "</div>"
      ],
      "text/plain": [
       "      EMPLOYEE ANNUAL SALARY\n",
       "0                   81000.00\n",
       "1                   74628.00\n",
       "2                   77280.00\n",
       "3                   96276.00\n",
       "4                   84032.00\n",
       "...                      ...\n",
       "34213               74628.00\n",
       "34214               73216.00\n",
       "34215               77238.00\n",
       "34216              101958.00\n",
       "34217              110352.00\n",
       "\n",
       "[34218 rows x 1 columns]"
      ]
     },
     "execution_count": 9,
     "metadata": {},
     "output_type": "execute_result"
    }
   ],
   "source": [
    "ds_emp['EMPLOYEE ANNUAL SALARY'] = ds_emp['EMPLOYEE ANNUAL SALARY'].str.replace('$', '')\n",
    "pd.DataFrame(ds_emp['EMPLOYEE ANNUAL SALARY'])"
   ]
  },
  {
   "cell_type": "code",
   "execution_count": 10,
   "metadata": {},
   "outputs": [
    {
     "data": {
      "text/html": [
       "<div>\n",
       "<style scoped>\n",
       "    .dataframe tbody tr th:only-of-type {\n",
       "        vertical-align: middle;\n",
       "    }\n",
       "\n",
       "    .dataframe tbody tr th {\n",
       "        vertical-align: top;\n",
       "    }\n",
       "\n",
       "    .dataframe thead th {\n",
       "        text-align: right;\n",
       "    }\n",
       "</style>\n",
       "<table border=\"1\" class=\"dataframe\">\n",
       "  <thead>\n",
       "    <tr style=\"text-align: right;\">\n",
       "      <th></th>\n",
       "      <th>ESTIMATED ANNUAL SALARY MINUS FURLOUGHS</th>\n",
       "    </tr>\n",
       "  </thead>\n",
       "  <tbody>\n",
       "    <tr>\n",
       "      <th>0</th>\n",
       "      <td>73862.00</td>\n",
       "    </tr>\n",
       "    <tr>\n",
       "      <th>1</th>\n",
       "      <td>74628.00</td>\n",
       "    </tr>\n",
       "    <tr>\n",
       "      <th>2</th>\n",
       "      <td>70174.00</td>\n",
       "    </tr>\n",
       "    <tr>\n",
       "      <th>3</th>\n",
       "      <td>96276.00</td>\n",
       "    </tr>\n",
       "    <tr>\n",
       "      <th>4</th>\n",
       "      <td>76627.00</td>\n",
       "    </tr>\n",
       "    <tr>\n",
       "      <th>...</th>\n",
       "      <td>...</td>\n",
       "    </tr>\n",
       "    <tr>\n",
       "      <th>34213</th>\n",
       "      <td>74628.00</td>\n",
       "    </tr>\n",
       "    <tr>\n",
       "      <th>34214</th>\n",
       "      <td>66764.00</td>\n",
       "    </tr>\n",
       "    <tr>\n",
       "      <th>34215</th>\n",
       "      <td>77238.00</td>\n",
       "    </tr>\n",
       "    <tr>\n",
       "      <th>34216</th>\n",
       "      <td>101958.00</td>\n",
       "    </tr>\n",
       "    <tr>\n",
       "      <th>34217</th>\n",
       "      <td>100205.00</td>\n",
       "    </tr>\n",
       "  </tbody>\n",
       "</table>\n",
       "<p>34218 rows × 1 columns</p>\n",
       "</div>"
      ],
      "text/plain": [
       "      ESTIMATED ANNUAL SALARY MINUS FURLOUGHS\n",
       "0                                    73862.00\n",
       "1                                    74628.00\n",
       "2                                    70174.00\n",
       "3                                    96276.00\n",
       "4                                    76627.00\n",
       "...                                       ...\n",
       "34213                                74628.00\n",
       "34214                                66764.00\n",
       "34215                                77238.00\n",
       "34216                               101958.00\n",
       "34217                               100205.00\n",
       "\n",
       "[34218 rows x 1 columns]"
      ]
     },
     "execution_count": 10,
     "metadata": {},
     "output_type": "execute_result"
    }
   ],
   "source": [
    "ds_emp['ESTIMATED ANNUAL SALARY MINUS FURLOUGHS'] = ds_emp['ESTIMATED ANNUAL SALARY MINUS FURLOUGHS'].str.replace('$', '')\n",
    "pd.DataFrame(ds_emp['ESTIMATED ANNUAL SALARY MINUS FURLOUGHS'])"
   ]
  },
  {
   "cell_type": "code",
   "execution_count": 11,
   "metadata": {},
   "outputs": [],
   "source": [
    "ds_emp[[\"EMPLOYEE ANNUAL SALARY\", \"ESTIMATED ANNUAL SALARY MINUS FURLOUGHS\"]] = ds_emp[[\"EMPLOYEE ANNUAL SALARY\", \"ESTIMATED ANNUAL SALARY MINUS FURLOUGHS\"]].apply(pd.to_numeric)"
   ]
  },
  {
   "cell_type": "code",
   "execution_count": 12,
   "metadata": {},
   "outputs": [
    {
     "data": {
      "text/plain": [
       "DEPARTMENT                                  object\n",
       "EMPLOYEE ANNUAL SALARY                     float64\n",
       "ESTIMATED ANNUAL SALARY MINUS FURLOUGHS    float64\n",
       "dtype: object"
      ]
     },
     "execution_count": 12,
     "metadata": {},
     "output_type": "execute_result"
    }
   ],
   "source": [
    "ds_emp.dtypes"
   ]
  },
  {
   "cell_type": "code",
   "execution_count": 13,
   "metadata": {},
   "outputs": [
    {
     "data": {
      "text/html": [
       "<div>\n",
       "<style scoped>\n",
       "    .dataframe tbody tr th:only-of-type {\n",
       "        vertical-align: middle;\n",
       "    }\n",
       "\n",
       "    .dataframe tbody tr th {\n",
       "        vertical-align: top;\n",
       "    }\n",
       "\n",
       "    .dataframe thead th {\n",
       "        text-align: right;\n",
       "    }\n",
       "</style>\n",
       "<table border=\"1\" class=\"dataframe\">\n",
       "  <thead>\n",
       "    <tr style=\"text-align: right;\">\n",
       "      <th></th>\n",
       "      <th>DEPARTMENT</th>\n",
       "      <th>EMPLOYEE ANNUAL SALARY</th>\n",
       "      <th>ESTIMATED ANNUAL SALARY MINUS FURLOUGHS</th>\n",
       "    </tr>\n",
       "  </thead>\n",
       "  <tbody>\n",
       "    <tr>\n",
       "      <th>0</th>\n",
       "      <td>WATER MGMNT</td>\n",
       "      <td>81000.0</td>\n",
       "      <td>73862.0</td>\n",
       "    </tr>\n",
       "    <tr>\n",
       "      <th>1</th>\n",
       "      <td>POLICE</td>\n",
       "      <td>74628.0</td>\n",
       "      <td>74628.0</td>\n",
       "    </tr>\n",
       "    <tr>\n",
       "      <th>2</th>\n",
       "      <td>FLEET MANAGEMNT</td>\n",
       "      <td>77280.0</td>\n",
       "      <td>70174.0</td>\n",
       "    </tr>\n",
       "    <tr>\n",
       "      <th>3</th>\n",
       "      <td>WATER MGMNT</td>\n",
       "      <td>96276.0</td>\n",
       "      <td>96276.0</td>\n",
       "    </tr>\n",
       "    <tr>\n",
       "      <th>4</th>\n",
       "      <td>WATER MGMNT</td>\n",
       "      <td>84032.0</td>\n",
       "      <td>76627.0</td>\n",
       "    </tr>\n",
       "    <tr>\n",
       "      <th>...</th>\n",
       "      <td>...</td>\n",
       "      <td>...</td>\n",
       "      <td>...</td>\n",
       "    </tr>\n",
       "    <tr>\n",
       "      <th>34213</th>\n",
       "      <td>POLICE</td>\n",
       "      <td>74628.0</td>\n",
       "      <td>74628.0</td>\n",
       "    </tr>\n",
       "    <tr>\n",
       "      <th>34214</th>\n",
       "      <td>WATER MGMNT</td>\n",
       "      <td>73216.0</td>\n",
       "      <td>66764.0</td>\n",
       "    </tr>\n",
       "    <tr>\n",
       "      <th>34215</th>\n",
       "      <td>POLICE</td>\n",
       "      <td>77238.0</td>\n",
       "      <td>77238.0</td>\n",
       "    </tr>\n",
       "    <tr>\n",
       "      <th>34216</th>\n",
       "      <td>FIRE</td>\n",
       "      <td>101958.0</td>\n",
       "      <td>101958.0</td>\n",
       "    </tr>\n",
       "    <tr>\n",
       "      <th>34217</th>\n",
       "      <td>DoIT</td>\n",
       "      <td>110352.0</td>\n",
       "      <td>100205.0</td>\n",
       "    </tr>\n",
       "  </tbody>\n",
       "</table>\n",
       "<p>34218 rows × 3 columns</p>\n",
       "</div>"
      ],
      "text/plain": [
       "            DEPARTMENT  EMPLOYEE ANNUAL SALARY  \\\n",
       "0          WATER MGMNT                 81000.0   \n",
       "1               POLICE                 74628.0   \n",
       "2      FLEET MANAGEMNT                 77280.0   \n",
       "3          WATER MGMNT                 96276.0   \n",
       "4          WATER MGMNT                 84032.0   \n",
       "...                ...                     ...   \n",
       "34213           POLICE                 74628.0   \n",
       "34214      WATER MGMNT                 73216.0   \n",
       "34215           POLICE                 77238.0   \n",
       "34216             FIRE                101958.0   \n",
       "34217             DoIT                110352.0   \n",
       "\n",
       "       ESTIMATED ANNUAL SALARY MINUS FURLOUGHS  \n",
       "0                                      73862.0  \n",
       "1                                      74628.0  \n",
       "2                                      70174.0  \n",
       "3                                      96276.0  \n",
       "4                                      76627.0  \n",
       "...                                        ...  \n",
       "34213                                  74628.0  \n",
       "34214                                  66764.0  \n",
       "34215                                  77238.0  \n",
       "34216                                 101958.0  \n",
       "34217                                 100205.0  \n",
       "\n",
       "[34218 rows x 3 columns]"
      ]
     },
     "execution_count": 13,
     "metadata": {},
     "output_type": "execute_result"
    }
   ],
   "source": [
    "ds_emp"
   ]
  },
  {
   "cell_type": "markdown",
   "metadata": {},
   "source": [
    "### Quatifying with Label Encoder"
   ]
  },
  {
   "cell_type": "code",
   "execution_count": 14,
   "metadata": {},
   "outputs": [
    {
     "data": {
      "text/html": [
       "<div>\n",
       "<style scoped>\n",
       "    .dataframe tbody tr th:only-of-type {\n",
       "        vertical-align: middle;\n",
       "    }\n",
       "\n",
       "    .dataframe tbody tr th {\n",
       "        vertical-align: top;\n",
       "    }\n",
       "\n",
       "    .dataframe thead th {\n",
       "        text-align: right;\n",
       "    }\n",
       "</style>\n",
       "<table border=\"1\" class=\"dataframe\">\n",
       "  <thead>\n",
       "    <tr style=\"text-align: right;\">\n",
       "      <th></th>\n",
       "      <th>DEPARTMENT</th>\n",
       "      <th>EMPLOYEE ANNUAL SALARY</th>\n",
       "      <th>ESTIMATED ANNUAL SALARY MINUS FURLOUGHS</th>\n",
       "    </tr>\n",
       "  </thead>\n",
       "  <tbody>\n",
       "    <tr>\n",
       "      <th>0</th>\n",
       "      <td>38</td>\n",
       "      <td>81000.0</td>\n",
       "      <td>73862.0</td>\n",
       "    </tr>\n",
       "    <tr>\n",
       "      <th>1</th>\n",
       "      <td>30</td>\n",
       "      <td>74628.0</td>\n",
       "      <td>74628.0</td>\n",
       "    </tr>\n",
       "    <tr>\n",
       "      <th>2</th>\n",
       "      <td>19</td>\n",
       "      <td>77280.0</td>\n",
       "      <td>70174.0</td>\n",
       "    </tr>\n",
       "    <tr>\n",
       "      <th>3</th>\n",
       "      <td>38</td>\n",
       "      <td>96276.0</td>\n",
       "      <td>96276.0</td>\n",
       "    </tr>\n",
       "    <tr>\n",
       "      <th>4</th>\n",
       "      <td>38</td>\n",
       "      <td>84032.0</td>\n",
       "      <td>76627.0</td>\n",
       "    </tr>\n",
       "    <tr>\n",
       "      <th>...</th>\n",
       "      <td>...</td>\n",
       "      <td>...</td>\n",
       "      <td>...</td>\n",
       "    </tr>\n",
       "    <tr>\n",
       "      <th>34213</th>\n",
       "      <td>30</td>\n",
       "      <td>74628.0</td>\n",
       "      <td>74628.0</td>\n",
       "    </tr>\n",
       "    <tr>\n",
       "      <th>34214</th>\n",
       "      <td>38</td>\n",
       "      <td>73216.0</td>\n",
       "      <td>66764.0</td>\n",
       "    </tr>\n",
       "    <tr>\n",
       "      <th>34215</th>\n",
       "      <td>30</td>\n",
       "      <td>77238.0</td>\n",
       "      <td>77238.0</td>\n",
       "    </tr>\n",
       "    <tr>\n",
       "      <th>34216</th>\n",
       "      <td>18</td>\n",
       "      <td>101958.0</td>\n",
       "      <td>101958.0</td>\n",
       "    </tr>\n",
       "    <tr>\n",
       "      <th>34217</th>\n",
       "      <td>14</td>\n",
       "      <td>110352.0</td>\n",
       "      <td>100205.0</td>\n",
       "    </tr>\n",
       "  </tbody>\n",
       "</table>\n",
       "<p>34218 rows × 3 columns</p>\n",
       "</div>"
      ],
      "text/plain": [
       "       DEPARTMENT  EMPLOYEE ANNUAL SALARY  \\\n",
       "0              38                 81000.0   \n",
       "1              30                 74628.0   \n",
       "2              19                 77280.0   \n",
       "3              38                 96276.0   \n",
       "4              38                 84032.0   \n",
       "...           ...                     ...   \n",
       "34213          30                 74628.0   \n",
       "34214          38                 73216.0   \n",
       "34215          30                 77238.0   \n",
       "34216          18                101958.0   \n",
       "34217          14                110352.0   \n",
       "\n",
       "       ESTIMATED ANNUAL SALARY MINUS FURLOUGHS  \n",
       "0                                      73862.0  \n",
       "1                                      74628.0  \n",
       "2                                      70174.0  \n",
       "3                                      96276.0  \n",
       "4                                      76627.0  \n",
       "...                                        ...  \n",
       "34213                                  74628.0  \n",
       "34214                                  66764.0  \n",
       "34215                                  77238.0  \n",
       "34216                                 101958.0  \n",
       "34217                                 100205.0  \n",
       "\n",
       "[34218 rows x 3 columns]"
      ]
     },
     "execution_count": 14,
     "metadata": {},
     "output_type": "execute_result"
    }
   ],
   "source": [
    "from sklearn.preprocessing import LabelEncoder\n",
    "le=LabelEncoder()\n",
    "ds_emp[\"DEPARTMENT\"]=le.fit_transform(ds_emp[\"DEPARTMENT\"].astype(str))\n",
    "ds_emp"
   ]
  },
  {
   "cell_type": "code",
   "execution_count": 15,
   "metadata": {},
   "outputs": [
    {
     "data": {
      "text/plain": [
       "DEPARTMENT                                   int32\n",
       "EMPLOYEE ANNUAL SALARY                     float64\n",
       "ESTIMATED ANNUAL SALARY MINUS FURLOUGHS    float64\n",
       "dtype: object"
      ]
     },
     "execution_count": 15,
     "metadata": {},
     "output_type": "execute_result"
    }
   ],
   "source": [
    "ds_emp.dtypes"
   ]
  },
  {
   "cell_type": "markdown",
   "metadata": {},
   "source": [
    "### Checking Skewness"
   ]
  },
  {
   "cell_type": "code",
   "execution_count": 16,
   "metadata": {},
   "outputs": [
    {
     "data": {
      "text/plain": [
       "DEPARTMENT                                -1.065106\n",
       "EMPLOYEE ANNUAL SALARY                    -0.571787\n",
       "ESTIMATED ANNUAL SALARY MINUS FURLOUGHS   -0.686903\n",
       "dtype: float64"
      ]
     },
     "execution_count": 16,
     "metadata": {},
     "output_type": "execute_result"
    }
   ],
   "source": [
    "ds_emp.skew()"
   ]
  },
  {
   "cell_type": "code",
   "execution_count": 17,
   "metadata": {},
   "outputs": [
    {
     "data": {
      "text/plain": [
       "<seaborn.axisgrid.PairGrid at 0xbcd8a48>"
      ]
     },
     "execution_count": 17,
     "metadata": {},
     "output_type": "execute_result"
    },
    {
     "data": {
      "image/png": "[encoded data removed]",
      "text/plain": [
       "<Figure size 540x540 with 12 Axes>"
      ]
     },
     "metadata": {
      "needs_background": "light"
     },
     "output_type": "display_data"
    }
   ],
   "source": [
    "sns.pairplot(ds_emp)"
   ]
  },
  {
   "cell_type": "markdown",
   "metadata": {},
   "source": [
    "### Bivariate Analysis"
   ]
  },
  {
   "cell_type": "code",
   "execution_count": 18,
   "metadata": {},
   "outputs": [
    {
     "data": {
      "image/png": "[encoded data removed]",
      "text/plain": [
       "<Figure size 432x288 with 1 Axes>"
      ]
     },
     "metadata": {
      "needs_background": "light"
     },
     "output_type": "display_data"
    }
   ],
   "source": [
    "sns.barplot(x=ds_emp[\"DEPARTMENT\"],y=ds_emp[\"ESTIMATED ANNUAL SALARY MINUS FURLOUGHS\"],data=ds_emp)\n",
    "plt.show()"
   ]
  },
  {
   "cell_type": "markdown",
   "metadata": {},
   "source": [
    "### Plotting Correlation"
   ]
  },
  {
   "cell_type": "code",
   "execution_count": 19,
   "metadata": {},
   "outputs": [
    {
     "data": {
      "text/html": [
       "<div>\n",
       "<style scoped>\n",
       "    .dataframe tbody tr th:only-of-type {\n",
       "        vertical-align: middle;\n",
       "    }\n",
       "\n",
       "    .dataframe tbody tr th {\n",
       "        vertical-align: top;\n",
       "    }\n",
       "\n",
       "    .dataframe thead th {\n",
       "        text-align: right;\n",
       "    }\n",
       "</style>\n",
       "<table border=\"1\" class=\"dataframe\">\n",
       "  <thead>\n",
       "    <tr style=\"text-align: right;\">\n",
       "      <th></th>\n",
       "      <th>DEPARTMENT</th>\n",
       "      <th>EMPLOYEE ANNUAL SALARY</th>\n",
       "      <th>ESTIMATED ANNUAL SALARY MINUS FURLOUGHS</th>\n",
       "    </tr>\n",
       "  </thead>\n",
       "  <tbody>\n",
       "    <tr>\n",
       "      <th>DEPARTMENT</th>\n",
       "      <td>1.000000</td>\n",
       "      <td>-0.020931</td>\n",
       "      <td>-0.012801</td>\n",
       "    </tr>\n",
       "    <tr>\n",
       "      <th>EMPLOYEE ANNUAL SALARY</th>\n",
       "      <td>-0.020931</td>\n",
       "      <td>1.000000</td>\n",
       "      <td>0.990208</td>\n",
       "    </tr>\n",
       "    <tr>\n",
       "      <th>ESTIMATED ANNUAL SALARY MINUS FURLOUGHS</th>\n",
       "      <td>-0.012801</td>\n",
       "      <td>0.990208</td>\n",
       "      <td>1.000000</td>\n",
       "    </tr>\n",
       "  </tbody>\n",
       "</table>\n",
       "</div>"
      ],
      "text/plain": [
       "                                         DEPARTMENT  EMPLOYEE ANNUAL SALARY  \\\n",
       "DEPARTMENT                                 1.000000               -0.020931   \n",
       "EMPLOYEE ANNUAL SALARY                    -0.020931                1.000000   \n",
       "ESTIMATED ANNUAL SALARY MINUS FURLOUGHS   -0.012801                0.990208   \n",
       "\n",
       "                                         ESTIMATED ANNUAL SALARY MINUS FURLOUGHS  \n",
       "DEPARTMENT                                                             -0.012801  \n",
       "EMPLOYEE ANNUAL SALARY                                                  0.990208  \n",
       "ESTIMATED ANNUAL SALARY MINUS FURLOUGHS                                 1.000000  "
      ]
     },
     "execution_count": 19,
     "metadata": {},
     "output_type": "execute_result"
    }
   ],
   "source": [
    "ds_emp.corr()"
   ]
  },
  {
   "cell_type": "markdown",
   "metadata": {},
   "source": [
    "### Seperating Input and Target Variable"
   ]
  },
  {
   "cell_type": "code",
   "execution_count": 20,
   "metadata": {},
   "outputs": [
    {
     "data": {
      "text/html": [
       "<div>\n",
       "<style scoped>\n",
       "    .dataframe tbody tr th:only-of-type {\n",
       "        vertical-align: middle;\n",
       "    }\n",
       "\n",
       "    .dataframe tbody tr th {\n",
       "        vertical-align: top;\n",
       "    }\n",
       "\n",
       "    .dataframe thead th {\n",
       "        text-align: right;\n",
       "    }\n",
       "</style>\n",
       "<table border=\"1\" class=\"dataframe\">\n",
       "  <thead>\n",
       "    <tr style=\"text-align: right;\">\n",
       "      <th></th>\n",
       "      <th>DEPARTMENT</th>\n",
       "      <th>EMPLOYEE ANNUAL SALARY</th>\n",
       "    </tr>\n",
       "  </thead>\n",
       "  <tbody>\n",
       "    <tr>\n",
       "      <th>0</th>\n",
       "      <td>38</td>\n",
       "      <td>81000.0</td>\n",
       "    </tr>\n",
       "    <tr>\n",
       "      <th>1</th>\n",
       "      <td>30</td>\n",
       "      <td>74628.0</td>\n",
       "    </tr>\n",
       "    <tr>\n",
       "      <th>2</th>\n",
       "      <td>19</td>\n",
       "      <td>77280.0</td>\n",
       "    </tr>\n",
       "    <tr>\n",
       "      <th>3</th>\n",
       "      <td>38</td>\n",
       "      <td>96276.0</td>\n",
       "    </tr>\n",
       "    <tr>\n",
       "      <th>4</th>\n",
       "      <td>38</td>\n",
       "      <td>84032.0</td>\n",
       "    </tr>\n",
       "    <tr>\n",
       "      <th>...</th>\n",
       "      <td>...</td>\n",
       "      <td>...</td>\n",
       "    </tr>\n",
       "    <tr>\n",
       "      <th>34213</th>\n",
       "      <td>30</td>\n",
       "      <td>74628.0</td>\n",
       "    </tr>\n",
       "    <tr>\n",
       "      <th>34214</th>\n",
       "      <td>38</td>\n",
       "      <td>73216.0</td>\n",
       "    </tr>\n",
       "    <tr>\n",
       "      <th>34215</th>\n",
       "      <td>30</td>\n",
       "      <td>77238.0</td>\n",
       "    </tr>\n",
       "    <tr>\n",
       "      <th>34216</th>\n",
       "      <td>18</td>\n",
       "      <td>101958.0</td>\n",
       "    </tr>\n",
       "    <tr>\n",
       "      <th>34217</th>\n",
       "      <td>14</td>\n",
       "      <td>110352.0</td>\n",
       "    </tr>\n",
       "  </tbody>\n",
       "</table>\n",
       "<p>34218 rows × 2 columns</p>\n",
       "</div>"
      ],
      "text/plain": [
       "       DEPARTMENT  EMPLOYEE ANNUAL SALARY\n",
       "0              38                 81000.0\n",
       "1              30                 74628.0\n",
       "2              19                 77280.0\n",
       "3              38                 96276.0\n",
       "4              38                 84032.0\n",
       "...           ...                     ...\n",
       "34213          30                 74628.0\n",
       "34214          38                 73216.0\n",
       "34215          30                 77238.0\n",
       "34216          18                101958.0\n",
       "34217          14                110352.0\n",
       "\n",
       "[34218 rows x 2 columns]"
      ]
     },
     "execution_count": 20,
     "metadata": {},
     "output_type": "execute_result"
    }
   ],
   "source": [
    "x=ds_emp.iloc[:,0:-1]\n",
    "x"
   ]
  },
  {
   "cell_type": "code",
   "execution_count": 21,
   "metadata": {},
   "outputs": [
    {
     "data": {
      "text/plain": [
       "0         73862.0\n",
       "1         74628.0\n",
       "2         70174.0\n",
       "3         96276.0\n",
       "4         76627.0\n",
       "           ...   \n",
       "34213     74628.0\n",
       "34214     66764.0\n",
       "34215     77238.0\n",
       "34216    101958.0\n",
       "34217    100205.0\n",
       "Name: ESTIMATED ANNUAL SALARY MINUS FURLOUGHS, Length: 34218, dtype: float64"
      ]
     },
     "execution_count": 21,
     "metadata": {},
     "output_type": "execute_result"
    }
   ],
   "source": [
    "y=ds_emp.iloc[:,-1]\n",
    "y"
   ]
  },
  {
   "cell_type": "markdown",
   "metadata": {},
   "source": [
    "### Generating Best Random State"
   ]
  },
  {
   "cell_type": "code",
   "execution_count": 22,
   "metadata": {},
   "outputs": [],
   "source": [
    "from sklearn.model_selection import train_test_split\n",
    "from sklearn.metrics import mean_squared_error\n",
    "from sklearn.metrics import mean_absolute_error\n",
    "from sklearn.metrics import r2_score\n",
    "from sklearn.linear_model import LinearRegression"
   ]
  },
  {
   "cell_type": "code",
   "execution_count": 23,
   "metadata": {},
   "outputs": [
    {
     "name": "stdout",
     "output_type": "stream",
     "text": [
      "r2_score corresponding to random_state: 42 is: 0.9819728937561121\n",
      "r2_score corresponding to random_state: 43 is: 0.980408653227365\n",
      "r2_score corresponding to random_state: 44 is: 0.9799889924990186\n",
      "r2_score corresponding to random_state: 45 is: 0.9808612728680636\n",
      "r2_score corresponding to random_state: 46 is: 0.9806187647316682\n",
      "r2_score corresponding to random_state: 47 is: 0.9799771231024285\n",
      "r2_score corresponding to random_state: 48 is: 0.9810334563393368\n",
      "r2_score corresponding to random_state: 49 is: 0.9809589996135119\n",
      "r2_score corresponding to random_state: 50 is: 0.9809836488550319\n",
      "r2_score corresponding to random_state: 51 is: 0.9801767279908894\n",
      "r2_score corresponding to random_state: 52 is: 0.9807448789521187\n",
      "r2_score corresponding to random_state: 53 is: 0.9803949872496083\n",
      "r2_score corresponding to random_state: 54 is: 0.9807457495516438\n",
      "r2_score corresponding to random_state: 55 is: 0.9806581783159426\n",
      "r2_score corresponding to random_state: 56 is: 0.9800359587900606\n",
      "r2_score corresponding to random_state: 57 is: 0.9804879229084701\n",
      "r2_score corresponding to random_state: 58 is: 0.9811473418349189\n",
      "r2_score corresponding to random_state: 59 is: 0.9814158615605131\n",
      "r2_score corresponding to random_state: 60 is: 0.9801684877316167\n",
      "r2_score corresponding to random_state: 61 is: 0.9810811925153728\n",
      "r2_score corresponding to random_state: 62 is: 0.9807258736160882\n",
      "r2_score corresponding to random_state: 63 is: 0.9809841781590035\n",
      "r2_score corresponding to random_state: 64 is: 0.9804374685122396\n",
      "r2_score corresponding to random_state: 65 is: 0.9809621586363317\n",
      "r2_score corresponding to random_state: 66 is: 0.9810120147767913\n",
      "r2_score corresponding to random_state: 67 is: 0.980957777991453\n",
      "r2_score corresponding to random_state: 68 is: 0.9810851823845027\n",
      "r2_score corresponding to random_state: 69 is: 0.9811563232570114\n",
      "r2_score corresponding to random_state: 70 is: 0.98060770225104\n",
      "r2_score corresponding to random_state: 71 is: 0.9800963908534521\n",
      "r2_score corresponding to random_state: 72 is: 0.9802156530279457\n",
      "r2_score corresponding to random_state: 73 is: 0.9799978301456466\n",
      "r2_score corresponding to random_state: 74 is: 0.9809659575220754\n",
      "r2_score corresponding to random_state: 75 is: 0.9808581127770754\n",
      "r2_score corresponding to random_state: 76 is: 0.9805166065057834\n",
      "r2_score corresponding to random_state: 77 is: 0.980259857974753\n",
      "r2_score corresponding to random_state: 78 is: 0.979341407619146\n",
      "r2_score corresponding to random_state: 79 is: 0.9794728874609675\n",
      "r2_score corresponding to random_state: 80 is: 0.9812023833337745\n",
      "r2_score corresponding to random_state: 81 is: 0.9807793377359592\n",
      "r2_score corresponding to random_state: 82 is: 0.9797665824065329\n",
      "r2_score corresponding to random_state: 83 is: 0.9793605616492845\n",
      "r2_score corresponding to random_state: 84 is: 0.9813028093524712\n",
      "r2_score corresponding to random_state: 85 is: 0.9805994108864078\n",
      "r2_score corresponding to random_state: 86 is: 0.9804296351544239\n",
      "r2_score corresponding to random_state: 87 is: 0.980859536429606\n",
      "r2_score corresponding to random_state: 88 is: 0.9817483506653569\n",
      "r2_score corresponding to random_state: 89 is: 0.9799498323213398\n",
      "r2_score corresponding to random_state: 90 is: 0.9797700817618107\n",
      "r2_score corresponding to random_state: 91 is: 0.9807148798492059\n",
      "r2_score corresponding to random_state: 92 is: 0.9803606328379527\n",
      "r2_score corresponding to random_state: 93 is: 0.9801746030194896\n",
      "r2_score corresponding to random_state: 94 is: 0.9801109809977024\n",
      "r2_score corresponding to random_state: 95 is: 0.9801425478506072\n",
      "r2_score corresponding to random_state: 96 is: 0.9810365459282849\n",
      "r2_score corresponding to random_state: 97 is: 0.9801604021813511\n",
      "r2_score corresponding to random_state: 98 is: 0.9804247178462949\n",
      "r2_score corresponding to random_state: 99 is: 0.980242449906436\n",
      "r2_score corresponding to random_state: 100 is: 0.9805784377570657\n",
      "\n",
      "\n",
      "max r2_score corresponding to 42 is 0.9819728937561121\n"
     ]
    }
   ],
   "source": [
    "max_r_score=0\n",
    "for r_state in range(42,101):\n",
    "    x_train,x_test,y_train,y_test=train_test_split(x,y,random_state=r_state,test_size=.20)\n",
    "    re=LinearRegression()\n",
    "    re.fit(x_train,y_train)\n",
    "    y_pred=re.predict(x_test)\n",
    "    r2_scr=r2_score(y_test,y_pred)\n",
    "    print(\"r2_score corresponding to random_state:\",r_state,\"is:\",r2_scr)\n",
    "    if r2_scr>max_r_score:\n",
    "        max_r_score=r2_scr    \n",
    "        final_r_state=r_state\n",
    "print()\n",
    "print()\n",
    "print(\"max r2_score corresponding to\",final_r_state,\"is\",max_r_score)"
   ]
  },
  {
   "cell_type": "markdown",
   "metadata": {},
   "source": [
    "### Cross Validation Score"
   ]
  },
  {
   "cell_type": "code",
   "execution_count": 24,
   "metadata": {},
   "outputs": [],
   "source": [
    "from sklearn.model_selection import cross_val_score"
   ]
  },
  {
   "cell_type": "code",
   "execution_count": 25,
   "metadata": {},
   "outputs": [
    {
     "data": {
      "text/plain": [
       "0.9805379480161921"
      ]
     },
     "execution_count": 25,
     "metadata": {},
     "output_type": "execute_result"
    }
   ],
   "source": [
    "cross_val_score(LinearRegression(),x,y,cv=5,scoring=\"r2\").mean()"
   ]
  },
  {
   "cell_type": "markdown",
   "metadata": {},
   "source": [
    "### Re_Testing using best Random_State"
   ]
  },
  {
   "cell_type": "code",
   "execution_count": 26,
   "metadata": {},
   "outputs": [
    {
     "name": "stdout",
     "output_type": "stream",
     "text": [
      "[59677.40190743 80710.13838172 77954.5377071  ... 65980.66082656\n",
      " 87219.58486537 75369.89224048]\n",
      "r2 score is : 0.9819728937561121\n",
      "Root_Mean_Squared_Error is : 3049.5626470383227\n"
     ]
    }
   ],
   "source": [
    "x_train,x_test,y_train,y_test=train_test_split(x,y,random_state=42,test_size=.20)\n",
    "re=LinearRegression()\n",
    "re.fit(x_train,y_train)\n",
    "y_pred=re.predict(x_test)\n",
    "print(y_pred)\n",
    "print(\"r2 score is :\",(r2_score(y_test,y_pred)))\n",
    "print(\"Root_Mean_Squared_Error is :\",np.sqrt(mean_squared_error(y_test,y_pred)))"
   ]
  },
  {
   "cell_type": "markdown",
   "metadata": {},
   "source": [
    "### Saving the Model"
   ]
  },
  {
   "cell_type": "code",
   "execution_count": 27,
   "metadata": {},
   "outputs": [
    {
     "data": {
      "text/plain": [
       "['re_Emp_Salary_Model.obj']"
      ]
     },
     "execution_count": 27,
     "metadata": {},
     "output_type": "execute_result"
    }
   ],
   "source": [
    "import joblib\n",
    "joblib.dump(re,\"re_Emp_Salary_Model.obj\")"
   ]
  },
  {
   "cell_type": "markdown",
   "metadata": {},
   "source": [
    "### Loading Model"
   ]
  },
  {
   "cell_type": "code",
   "execution_count": 29,
   "metadata": {},
   "outputs": [],
   "source": [
    "Emp_Salary_re=joblib.load(\"re_Emp_Salary_Model.obj\")"
   ]
  },
  {
   "cell_type": "markdown",
   "metadata": {},
   "source": [
    "### Using Model "
   ]
  },
  {
   "cell_type": "code",
   "execution_count": 30,
   "metadata": {},
   "outputs": [
    {
     "data": {
      "text/plain": [
       "array([59677.40190743, 80710.13838172, 77954.5377071 , ...,\n",
       "       65980.66082656, 87219.58486537, 75369.89224048])"
      ]
     },
     "execution_count": 30,
     "metadata": {},
     "output_type": "execute_result"
    }
   ],
   "source": [
    "Emp_Salary_re.predict(x_test)"
   ]
  },
  {
   "cell_type": "code",
   "execution_count": null,
   "metadata": {},
   "outputs": [],
   "source": []
  }
 ],
 "metadata": {
  "kernelspec": {
   "display_name": "Python 3",
   "language": "python",
   "name": "python3"
  },
  "language_info": {
   "codemirror_mode": {
    "name": "ipython",
    "version": 3
   },
   "file_extension": ".py",
   "mimetype": "text/x-python",
   "name": "python",
   "nbconvert_exporter": "python",
   "pygments_lexer": "ipython3",
   "version": "3.7.6"
  }
 },
 "nbformat": 4,
 "nbformat_minor": 4
}
